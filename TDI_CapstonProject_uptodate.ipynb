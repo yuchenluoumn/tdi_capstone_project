{
 "cells": [
  {
   "cell_type": "markdown",
   "metadata": {
    "slideshow": {
     "slide_type": "-"
    }
   },
   "source": [
    "<h1><center><font size=12>H1B Data Mining Project</font></center></h1>"
   ]
  },
  {
   "cell_type": "markdown",
   "metadata": {},
   "source": [
    "# 1. INTRODUCTION TO THE CAPSTONE PROEJCT"
   ]
  },
  {
   "cell_type": "markdown",
   "metadata": {
    "slideshow": {
     "slide_type": "slide"
    }
   },
   "source": [
    "<font size =3>The H-1B is a visa in the United States under the Immigration and Nationality Act, section 101(a)(15)(H) which allows U.S. employers to employ foreign workers in specialty occupations.(from wikipedia). It is important for international student and foreigner in the US to work on a more permenant fashion. However, a lot of job post, the ones we can find in some mainstream job posting website, do not necessarily contain this kind of information. It is a frustrating and time-consuming experience to go through the whole tedious job application and got a rejection letter immediatly after the application was sent out. This experience happens to almost every foreigns who wants to find a job, especially fresh graduates who have no experience."
   ]
  },
  {
   "cell_type": "markdown",
   "metadata": {},
   "source": [
    "# 2. MOTIVATION AND GOAL"
   ]
  },
  {
   "cell_type": "markdown",
   "metadata": {
    "slideshow": {
     "slide_type": "slide"
    }
   },
   "source": [
    "<font size =3>The motivation of this project is to really help the foreigners and interational students to gain more insights about the companies' H1B application history. And this notebook can serve as a direction for international students when they are applying schools. Considering the fact that the companies are more prone to hire local students. Picking up a school which locates at the hottest job market can increase the chances of being hired. Besides, this notebook can be a database for job applicant to refere durin the application process. Before apply for a job, have a look at the H1B history of the certain company can help applicants allocate their time more wisely. The last purpose of this project is to develop a machine learning algorithm to help people estimate their changes of getting the H1B application. \n",
    "\n",
    "In summary, the goal of this project is to:\n",
    "<br>\n",
    "i) __a helper in university application process__\n",
    "<br>\n",
    "ii) __a database to go to during job hunting__\n",
    "<br>\n",
    "iii) __is H1B a lottery ?__"
   ]
  },
  {
   "cell_type": "markdown",
   "metadata": {},
   "source": [
    "# __3. DATA EXPLORARY__"
   ]
  },
  {
   "cell_type": "code",
   "execution_count": 1,
   "metadata": {},
   "outputs": [],
   "source": [
    "import numpy as np\n",
    "import pandas as pd\n",
    "import warnings\n",
    "import seaborn as sns\n",
    "import matplotlib.pyplot as plt\n",
    "from sklearn import base\n",
    "from sklearn.pipeline import Pipeline\n",
    "from sklearn.neighbors import KNeighborsRegressor"
   ]
  },
  {
   "cell_type": "code",
   "execution_count": 2,
   "metadata": {},
   "outputs": [
    {
     "data": {
      "text/html": [
       "<div>\n",
       "<style scoped>\n",
       "    .dataframe tbody tr th:only-of-type {\n",
       "        vertical-align: middle;\n",
       "    }\n",
       "\n",
       "    .dataframe tbody tr th {\n",
       "        vertical-align: top;\n",
       "    }\n",
       "\n",
       "    .dataframe thead th {\n",
       "        text-align: right;\n",
       "    }\n",
       "</style>\n",
       "<table border=\"1\" class=\"dataframe\">\n",
       "  <thead>\n",
       "    <tr style=\"text-align: right;\">\n",
       "      <th></th>\n",
       "      <th>Unnamed: 0</th>\n",
       "      <th>CASE_STATUS</th>\n",
       "      <th>EMPLOYER_NAME</th>\n",
       "      <th>SOC_NAME</th>\n",
       "      <th>JOB_TITLE</th>\n",
       "      <th>FULL_TIME_POSITION</th>\n",
       "      <th>PREVAILING_WAGE</th>\n",
       "      <th>YEAR</th>\n",
       "      <th>WORKSITE</th>\n",
       "      <th>lon</th>\n",
       "      <th>lat</th>\n",
       "    </tr>\n",
       "  </thead>\n",
       "  <tbody>\n",
       "    <tr>\n",
       "      <th>0</th>\n",
       "      <td>1</td>\n",
       "      <td>CERTIFIED-WITHDRAWN</td>\n",
       "      <td>UNIVERSITY OF MICHIGAN</td>\n",
       "      <td>BIOCHEMISTS AND BIOPHYSICISTS</td>\n",
       "      <td>POSTDOCTORAL RESEARCH FELLOW</td>\n",
       "      <td>N</td>\n",
       "      <td>36067.0</td>\n",
       "      <td>2016.0</td>\n",
       "      <td>ANN ARBOR, MICHIGAN</td>\n",
       "      <td>-83.743038</td>\n",
       "      <td>42.280826</td>\n",
       "    </tr>\n",
       "    <tr>\n",
       "      <th>1</th>\n",
       "      <td>2</td>\n",
       "      <td>CERTIFIED-WITHDRAWN</td>\n",
       "      <td>GOODMAN NETWORKS, INC.</td>\n",
       "      <td>CHIEF EXECUTIVES</td>\n",
       "      <td>CHIEF OPERATING OFFICER</td>\n",
       "      <td>Y</td>\n",
       "      <td>242674.0</td>\n",
       "      <td>2016.0</td>\n",
       "      <td>PLANO, TEXAS</td>\n",
       "      <td>-96.698886</td>\n",
       "      <td>33.019843</td>\n",
       "    </tr>\n",
       "    <tr>\n",
       "      <th>2</th>\n",
       "      <td>3</td>\n",
       "      <td>CERTIFIED-WITHDRAWN</td>\n",
       "      <td>PORTS AMERICA GROUP, INC.</td>\n",
       "      <td>CHIEF EXECUTIVES</td>\n",
       "      <td>CHIEF PROCESS OFFICER</td>\n",
       "      <td>Y</td>\n",
       "      <td>193066.0</td>\n",
       "      <td>2016.0</td>\n",
       "      <td>JERSEY CITY, NEW JERSEY</td>\n",
       "      <td>-74.077642</td>\n",
       "      <td>40.728158</td>\n",
       "    </tr>\n",
       "    <tr>\n",
       "      <th>3</th>\n",
       "      <td>4</td>\n",
       "      <td>CERTIFIED-WITHDRAWN</td>\n",
       "      <td>GATES CORPORATION, A WHOLLY-OWNED SUBSIDIARY O...</td>\n",
       "      <td>CHIEF EXECUTIVES</td>\n",
       "      <td>REGIONAL PRESIDEN, AMERICAS</td>\n",
       "      <td>Y</td>\n",
       "      <td>220314.0</td>\n",
       "      <td>2016.0</td>\n",
       "      <td>DENVER, COLORADO</td>\n",
       "      <td>-104.990251</td>\n",
       "      <td>39.739236</td>\n",
       "    </tr>\n",
       "    <tr>\n",
       "      <th>4</th>\n",
       "      <td>5</td>\n",
       "      <td>WITHDRAWN</td>\n",
       "      <td>PEABODY INVESTMENTS CORP.</td>\n",
       "      <td>CHIEF EXECUTIVES</td>\n",
       "      <td>PRESIDENT MONGOLIA AND INDIA</td>\n",
       "      <td>Y</td>\n",
       "      <td>157518.4</td>\n",
       "      <td>2016.0</td>\n",
       "      <td>ST. LOUIS, MISSOURI</td>\n",
       "      <td>-90.199404</td>\n",
       "      <td>38.627003</td>\n",
       "    </tr>\n",
       "  </tbody>\n",
       "</table>\n",
       "</div>"
      ],
      "text/plain": [
       "   Unnamed: 0          CASE_STATUS  \\\n",
       "0           1  CERTIFIED-WITHDRAWN   \n",
       "1           2  CERTIFIED-WITHDRAWN   \n",
       "2           3  CERTIFIED-WITHDRAWN   \n",
       "3           4  CERTIFIED-WITHDRAWN   \n",
       "4           5            WITHDRAWN   \n",
       "\n",
       "                                       EMPLOYER_NAME  \\\n",
       "0                             UNIVERSITY OF MICHIGAN   \n",
       "1                             GOODMAN NETWORKS, INC.   \n",
       "2                          PORTS AMERICA GROUP, INC.   \n",
       "3  GATES CORPORATION, A WHOLLY-OWNED SUBSIDIARY O...   \n",
       "4                          PEABODY INVESTMENTS CORP.   \n",
       "\n",
       "                        SOC_NAME                     JOB_TITLE  \\\n",
       "0  BIOCHEMISTS AND BIOPHYSICISTS  POSTDOCTORAL RESEARCH FELLOW   \n",
       "1               CHIEF EXECUTIVES       CHIEF OPERATING OFFICER   \n",
       "2               CHIEF EXECUTIVES         CHIEF PROCESS OFFICER   \n",
       "3               CHIEF EXECUTIVES   REGIONAL PRESIDEN, AMERICAS   \n",
       "4               CHIEF EXECUTIVES  PRESIDENT MONGOLIA AND INDIA   \n",
       "\n",
       "  FULL_TIME_POSITION  PREVAILING_WAGE    YEAR                 WORKSITE  \\\n",
       "0                  N          36067.0  2016.0      ANN ARBOR, MICHIGAN   \n",
       "1                  Y         242674.0  2016.0             PLANO, TEXAS   \n",
       "2                  Y         193066.0  2016.0  JERSEY CITY, NEW JERSEY   \n",
       "3                  Y         220314.0  2016.0         DENVER, COLORADO   \n",
       "4                  Y         157518.4  2016.0      ST. LOUIS, MISSOURI   \n",
       "\n",
       "          lon        lat  \n",
       "0  -83.743038  42.280826  \n",
       "1  -96.698886  33.019843  \n",
       "2  -74.077642  40.728158  \n",
       "3 -104.990251  39.739236  \n",
       "4  -90.199404  38.627003  "
      ]
     },
     "execution_count": 2,
     "metadata": {},
     "output_type": "execute_result"
    }
   ],
   "source": [
    "data = pd.read_csv('h1b_kaggle.csv')\n",
    "data.head()"
   ]
  },
  {
   "cell_type": "markdown",
   "metadata": {},
   "source": [
    "<font size=5>Let us have a look at the salary information of the H1B application cases"
   ]
  },
  {
   "cell_type": "code",
   "execution_count": 3,
   "metadata": {},
   "outputs": [
    {
     "name": "stdout",
     "output_type": "stream",
     "text": [
      "the 98 percentile of the salary is 139.0k dollar\n",
      "the 2 percentile of the salary is 34.0k dollar\n",
      "the median of the salary is 65.0k dollar\n"
     ]
    }
   ],
   "source": [
    "salaryCol = data.PREVAILING_WAGE\n",
    "print(\"the 98 percentile of the salary is %.1fk dollar\"%(np.nanpercentile(salaryCol,98)/1000.0))\n",
    "print(\"the 2 percentile of the salary is %.1fk dollar\"%(np.nanpercentile(salaryCol,2)/1000.0))\n",
    "print(\"the median of the salary is %.1fk dollar\"%(salaryCol.median()/1000.0))"
   ]
  },
  {
   "cell_type": "markdown",
   "metadata": {},
   "source": [
    "<font size=5>Exclude the outliers and plot the histogram of the salary distribution. And perform some data visulization of the salary"
   ]
  },
  {
   "cell_type": "code",
   "execution_count": 4,
   "metadata": {},
   "outputs": [
    {
     "data": {
      "text/plain": [
       "Text(0,0.5,'Number of Applications')"
      ]
     },
     "execution_count": 4,
     "metadata": {},
     "output_type": "execute_result"
    },
    {
     "data": {
      "image/png": "[encoded data removed]",
      "text/plain": [
       "<Figure size 432x288 with 1 Axes>"
      ]
     },
     "metadata": {},
     "output_type": "display_data"
    }
   ],
   "source": [
    "warnings.filterwarnings(\"ignore\")\n",
    "salaryCol[salaryCol <= np.nanpercentile(salaryCol,2)]= np.nan\n",
    "salaryCol[salaryCol >= np.nanpercentile(salaryCol,98)]= np.nan\n",
    "salaryCol.dropna()\n",
    "plt.hist(salaryCol, 30, range=[np.nanpercentile(salaryCol,2), np.nanpercentile(salaryCol,98)], \\\n",
    "                               rwidth = 0.9, histtype = 'bar', facecolor = 'red', align = 'mid');\n",
    "plt.xlabel('US Dollars ($)')\n",
    "plt.ylabel('Number of Applications')"
   ]
  },
  {
   "cell_type": "markdown",
   "metadata": {},
   "source": [
    "<font size=3>From the wages histgram, the most common salary for H1B application cases are 60k dollars, there is a long tail of \n",
    "distribution as observed. We can have a closer look at the salary distribution per year as shown in the violin plot to gain more information about the correlation between the salary and the year."
   ]
  },
  {
   "cell_type": "code",
   "execution_count": 6,
   "metadata": {},
   "outputs": [
    {
     "data": {
      "image/png": "[encoded data removed]",
      "text/plain": [
       "<Figure size 432x288 with 1 Axes>"
      ]
     },
     "metadata": {},
     "output_type": "display_data"
    }
   ],
   "source": [
    "ax = sns.violinplot(x=\"YEAR\", y=\"PREVAILING_WAGE\", data = data)"
   ]
  },
  {
   "cell_type": "markdown",
   "metadata": {},
   "source": [
    "It turns out that the wavges distribution does not have a strong dependent on the year. But the medium of the salary shift higher from 2011 to 2016."
   ]
  },
  {
   "cell_type": "markdown",
   "metadata": {},
   "source": [
    "It is a natural question to ask who are the top employers hiring foreigh labors. To answer this question, we count the application records and sort them in descending order. Let us take a look at the first five employers."
   ]
  },
  {
   "cell_type": "code",
   "execution_count": 5,
   "metadata": {},
   "outputs": [
    {
     "data": {
      "text/plain": [
       "<matplotlib.axes._subplots.AxesSubplot at 0x7f0e795c0da0>"
      ]
     },
     "execution_count": 5,
     "metadata": {},
     "output_type": "execute_result"
    },
    {
     "data": {
      "image/png": "[encoded data removed]",
      "text/plain": [
       "<Figure size 432x288 with 1 Axes>"
      ]
     },
     "metadata": {},
     "output_type": "display_data"
    }
   ],
   "source": [
    "employer_name = data['EMPLOYER_NAME'].value_counts().index.tolist();\n",
    "employer_petitions = data['EMPLOYER_NAME'].value_counts().tolist();\n",
    "employer_petitions_thousand = [x / 1000 for x in employer_petitions];\n",
    "pd.DataFrame({'Employer Name':employer_name[:5], \\\n",
    "              'Number of Petitions (thousand)':employer_petitions_thousand[:5]})\\\n",
    "             .plot.barh(x = 'Employer Name', y ='Number of Petitions (thousand)', rot = 0)"
   ]
  },
  {
   "cell_type": "markdown",
   "metadata": {},
   "source": [
    "Interestingly, 4 out of 5 employers are india-based companies. It will be interesting to divide applications based on the origin of the company, such as where was the company formed. It might be an interesting thing to look at, but we need to use other databases to look up for such information."
   ]
  },
  {
   "cell_type": "markdown",
   "metadata": {},
   "source": [
    "Different people choose different workplace based on different factors. Some people are fond of the weather, some people are city person and some people enjoy the high-pay, fast-pace life. So let us have a look at the top five cities, foreigners would like to work in."
   ]
  },
  {
   "cell_type": "code",
   "execution_count": 13,
   "metadata": {},
   "outputs": [
    {
     "data": {
      "text/html": [
       "<div>\n",
       "<style scoped>\n",
       "    .dataframe tbody tr th:only-of-type {\n",
       "        vertical-align: middle;\n",
       "    }\n",
       "\n",
       "    .dataframe tbody tr th {\n",
       "        vertical-align: top;\n",
       "    }\n",
       "\n",
       "    .dataframe thead th {\n",
       "        text-align: right;\n",
       "    }\n",
       "</style>\n",
       "<table border=\"1\" class=\"dataframe\">\n",
       "  <thead>\n",
       "    <tr style=\"text-align: right;\">\n",
       "      <th></th>\n",
       "      <th>WORKSITE</th>\n",
       "      <th>TOP10</th>\n",
       "    </tr>\n",
       "  </thead>\n",
       "  <tbody>\n",
       "    <tr>\n",
       "      <th>0</th>\n",
       "      <td>NEW YORK, NEW YORK</td>\n",
       "      <td>191719</td>\n",
       "    </tr>\n",
       "    <tr>\n",
       "      <th>1</th>\n",
       "      <td>HOUSTON, TEXAS</td>\n",
       "      <td>83889</td>\n",
       "    </tr>\n",
       "    <tr>\n",
       "      <th>2</th>\n",
       "      <td>SAN FRANCISCO, CALIFORNIA</td>\n",
       "      <td>62787</td>\n",
       "    </tr>\n",
       "    <tr>\n",
       "      <th>3</th>\n",
       "      <td>ATLANTA, GEORGIA</td>\n",
       "      <td>52193</td>\n",
       "    </tr>\n",
       "    <tr>\n",
       "      <th>4</th>\n",
       "      <td>CHICAGO, ILLINOIS</td>\n",
       "      <td>51497</td>\n",
       "    </tr>\n",
       "    <tr>\n",
       "      <th>5</th>\n",
       "      <td>SAN JOSE, CALIFORNIA</td>\n",
       "      <td>50083</td>\n",
       "    </tr>\n",
       "    <tr>\n",
       "      <th>6</th>\n",
       "      <td>SUNNYVALE, CALIFORNIA</td>\n",
       "      <td>35136</td>\n",
       "    </tr>\n",
       "    <tr>\n",
       "      <th>7</th>\n",
       "      <td>DALLAS, TEXAS</td>\n",
       "      <td>31628</td>\n",
       "    </tr>\n",
       "    <tr>\n",
       "      <th>8</th>\n",
       "      <td>BOSTON, MASSACHUSETTS</td>\n",
       "      <td>31471</td>\n",
       "    </tr>\n",
       "    <tr>\n",
       "      <th>9</th>\n",
       "      <td>REDMOND, WASHINGTON</td>\n",
       "      <td>30667</td>\n",
       "    </tr>\n",
       "  </tbody>\n",
       "</table>\n",
       "</div>"
      ],
      "text/plain": [
       "                    WORKSITE   TOP10\n",
       "0         NEW YORK, NEW YORK  191719\n",
       "1             HOUSTON, TEXAS   83889\n",
       "2  SAN FRANCISCO, CALIFORNIA   62787\n",
       "3           ATLANTA, GEORGIA   52193\n",
       "4          CHICAGO, ILLINOIS   51497\n",
       "5       SAN JOSE, CALIFORNIA   50083\n",
       "6      SUNNYVALE, CALIFORNIA   35136\n",
       "7              DALLAS, TEXAS   31628\n",
       "8      BOSTON, MASSACHUSETTS   31471\n",
       "9        REDMOND, WASHINGTON   30667"
      ]
     },
     "execution_count": 13,
     "metadata": {},
     "output_type": "execute_result"
    }
   ],
   "source": [
    "df_top10_worksite = data.groupby(['WORKSITE'], sort=False).size().nlargest(10).reset_index(name='TOP10')\n",
    "df_top10_worksite"
   ]
  },
  {
   "cell_type": "markdown",
   "metadata": {},
   "source": [
    "The most popular city is NYC, and is followed by Houston and San Francisco. Although Los Angeles is the second largest city in the US, it does not make it to the top 10 foreigner hiring cities. But New York, Chicago and Houston end up top 5. Let us divid deeper into these 10 cities and plot their base salary distribution on the violin plot."
   ]
  },
  {
   "cell_type": "code",
   "execution_count": 14,
   "metadata": {},
   "outputs": [
    {
     "data": {
      "image/png": "[encoded data removed]",
      "text/plain": [
       "<Figure size 432x288 with 1 Axes>"
      ]
     },
     "metadata": {},
     "output_type": "display_data"
    }
   ],
   "source": [
    "i = 0\n",
    "df_temp = df_top10_worksite\n",
    "for worksite in df_temp['WORKSITE']:\n",
    "    if i == 0: df_temp = data[data['WORKSITE']==worksite]\n",
    "    if i > 0: df_temp = pd.concat([df_temp,data[data['WORKSITE']==worksite]])\n",
    "    i += 1\n",
    "df_temp['PREVAILING_WAGE(K)'] = df_temp['PREVAILING_WAGE'] / 1000.0\n",
    "ax_top10_worksite = sns.violinplot(x = \"PREVAILING_WAGE(K)\", y = \"WORKSITE\", data = df_temp)\n",
    "#ax_top5_worksite.set_xticklabels(['50K','60K','70K','80K','90K','100K','110K'])"
   ]
  },
  {
   "cell_type": "markdown",
   "metadata": {},
   "source": [
    "From the plot we can see that, the cities in California tend to offer a higher base salary probably to battle with the high rent and living cost. Although New York does not seems to have a less intense housing situation, the base salary in New York is not higher than California cities. And REDMOND Washington is another high-salary city, probably due to Microsoft and other IT companies in greater seattle area."
   ]
  },
  {
   "cell_type": "code",
   "execution_count": 16,
   "metadata": {},
   "outputs": [
    {
     "data": {
      "image/png": "[encoded data removed]",
      "text/plain": [
       "<Figure size 432x288 with 1 Axes>"
      ]
     },
     "metadata": {},
     "output_type": "display_data"
    }
   ],
   "source": [
    "ax_top10_worksite_boxplot = sns.boxplot(x = \"PREVAILING_WAGE(K)\", y = \"WORKSITE\", data = df_temp)"
   ]
  },
  {
   "cell_type": "markdown",
   "metadata": {},
   "source": [
    "By looking at the salary information at the top 10 popular working cities for foreigners in the US. It implies that IT related jobs and IT jobs location tends to have a higher base salary. So why do not we have a look at the top 10 job titles in the database to have a feeling about the hottest trend in the job market. Is it also IT related jobs?"
   ]
  },
  {
   "cell_type": "code",
   "execution_count": 17,
   "metadata": {},
   "outputs": [
    {
     "data": {
      "text/html": [
       "<div>\n",
       "<style scoped>\n",
       "    .dataframe tbody tr th:only-of-type {\n",
       "        vertical-align: middle;\n",
       "    }\n",
       "\n",
       "    .dataframe tbody tr th {\n",
       "        vertical-align: top;\n",
       "    }\n",
       "\n",
       "    .dataframe thead th {\n",
       "        text-align: right;\n",
       "    }\n",
       "</style>\n",
       "<table border=\"1\" class=\"dataframe\">\n",
       "  <thead>\n",
       "    <tr style=\"text-align: right;\">\n",
       "      <th></th>\n",
       "      <th>JOB_TITLE</th>\n",
       "      <th>top10</th>\n",
       "    </tr>\n",
       "  </thead>\n",
       "  <tbody>\n",
       "    <tr>\n",
       "      <th>0</th>\n",
       "      <td>PROGRAMMER ANALYST</td>\n",
       "      <td>249038</td>\n",
       "    </tr>\n",
       "    <tr>\n",
       "      <th>1</th>\n",
       "      <td>SOFTWARE ENGINEER</td>\n",
       "      <td>121307</td>\n",
       "    </tr>\n",
       "    <tr>\n",
       "      <th>2</th>\n",
       "      <td>COMPUTER PROGRAMMER</td>\n",
       "      <td>70570</td>\n",
       "    </tr>\n",
       "    <tr>\n",
       "      <th>3</th>\n",
       "      <td>SYSTEMS ANALYST</td>\n",
       "      <td>61965</td>\n",
       "    </tr>\n",
       "    <tr>\n",
       "      <th>4</th>\n",
       "      <td>SOFTWARE DEVELOPER</td>\n",
       "      <td>42907</td>\n",
       "    </tr>\n",
       "    <tr>\n",
       "      <th>5</th>\n",
       "      <td>BUSINESS ANALYST</td>\n",
       "      <td>39681</td>\n",
       "    </tr>\n",
       "    <tr>\n",
       "      <th>6</th>\n",
       "      <td>COMPUTER SYSTEMS ANALYST</td>\n",
       "      <td>35086</td>\n",
       "    </tr>\n",
       "    <tr>\n",
       "      <th>7</th>\n",
       "      <td>TECHNOLOGY LEAD - US</td>\n",
       "      <td>28350</td>\n",
       "    </tr>\n",
       "    <tr>\n",
       "      <th>8</th>\n",
       "      <td>SENIOR SOFTWARE ENGINEER</td>\n",
       "      <td>27133</td>\n",
       "    </tr>\n",
       "    <tr>\n",
       "      <th>9</th>\n",
       "      <td>TECHNOLOGY ANALYST - US</td>\n",
       "      <td>26055</td>\n",
       "    </tr>\n",
       "  </tbody>\n",
       "</table>\n",
       "</div>"
      ],
      "text/plain": [
       "                  JOB_TITLE   top10\n",
       "0        PROGRAMMER ANALYST  249038\n",
       "1         SOFTWARE ENGINEER  121307\n",
       "2       COMPUTER PROGRAMMER   70570\n",
       "3           SYSTEMS ANALYST   61965\n",
       "4        SOFTWARE DEVELOPER   42907\n",
       "5          BUSINESS ANALYST   39681\n",
       "6  COMPUTER SYSTEMS ANALYST   35086\n",
       "7      TECHNOLOGY LEAD - US   28350\n",
       "8  SENIOR SOFTWARE ENGINEER   27133\n",
       "9   TECHNOLOGY ANALYST - US   26055"
      ]
     },
     "execution_count": 17,
     "metadata": {},
     "output_type": "execute_result"
    }
   ],
   "source": [
    "df_top10_jobTitle = data.groupby(['JOB_TITLE'], sort=False).size().nlargest(10).reset_index(name='top10')\n",
    "df_top10_jobTitle"
   ]
  },
  {
   "cell_type": "markdown",
   "metadata": {},
   "source": [
    "Amazing the top 10 jobs are almost occupied by computer and data. By checking the salary, it turns out that software engineer has a good career path and median salary is much higher than the other occupations."
   ]
  },
  {
   "cell_type": "code",
   "execution_count": 21,
   "metadata": {},
   "outputs": [],
   "source": [
    "i = 0\n",
    "df_temp_jobs = df_top10_jobTitle\n",
    "for job in df_temp_jobs['JOB_TITLE']:\n",
    "    if i == 0: df_temp_jobs = data[data['JOB_TITLE'] == job]\n",
    "    if i > 0: df_temp_jobs = pd.concat([df_temp_jobs, data[data['JOB_TITLE'] == job]])\n",
    "    i += 1\n",
    "    \n",
    "df_temp_jobs['PREVAILING_WAGE(K)'] = df_temp_jobs['PREVAILING_WAGE']/1000.0"
   ]
  },
  {
   "cell_type": "code",
   "execution_count": 22,
   "metadata": {},
   "outputs": [
    {
     "data": {
      "image/png": "[encoded data removed]",
      "text/plain": [
       "<Figure size 1080x720 with 1 Axes>"
      ]
     },
     "metadata": {},
     "output_type": "display_data"
    }
   ],
   "source": [
    "a4_dims = (15, 10)\n",
    "fig, ax = plt.subplots(figsize= a4_dims)\n",
    "ax_top10_jobTitle_boxplot = sns.boxplot(x = \"PREVAILING_WAGE(K)\", y = \"JOB_TITLE\", data = df_temp_jobs, ax = ax)"
   ]
  },
  {
   "cell_type": "markdown",
   "metadata": {},
   "source": [
    "An overview of all the figures we have shown before, it can be made as an interactive plot.\n",
    "Play around a little bit."
   ]
  },
  {
   "cell_type": "code",
   "execution_count": 23,
   "metadata": {},
   "outputs": [],
   "source": [
    "import pandas as pd\n",
    "import numpy as np\n",
    "\n",
    "from bokeh.plotting import figure, show\n",
    "from bokeh.io import output_notebook\n",
    "from bokeh.palettes import Spectral6\n",
    "from ipywidgets import interact\n",
    "import requests"
   ]
  },
  {
   "cell_type": "code",
   "execution_count": 27,
   "metadata": {},
   "outputs": [],
   "source": [
    "data_part = data.sample(n = 1000)\n",
    "data_part[\"PREVAILING_WAGE(K)\"] = data_part[\"PREVAILING_WAGE\"] / 1000.0\n",
    "def topNSalary(col= 'WORKSITE', topN = 5):\n",
    "    df_temp = data_part.groupby([col], sort=False).size().nlargest(topN).reset_index(name='topN')\n",
    "    i = 0\n",
    "    for ele in df_temp[col]:\n",
    "        if i == 0: df_temp = data_part[data_part[col] == ele]\n",
    "        if i > 0: df_temp = pd.concat([df_temp, data_part[data_part[col] == ele]])\n",
    "        i += 1\n",
    "    a_dims = (15, 10)\n",
    "    fig, ax = plt.subplots(figsize= a_dims) \n",
    "    ax.set_xlabel('Prevailing Wages', size = 20)\n",
    "    ax.set_ylabel(col, size = 20)\n",
    "    ax.tick_params(direction='out', length = 12, width = 4, colors='b',\n",
    "                   grid_color='r', grid_alpha = 0.5, labelsize = 16)\n",
    "    sns.violinplot(x = \"PREVAILING_WAGE(K)\", y = col, data = df_temp, ax = ax)"
   ]
  },
  {
   "cell_type": "code",
   "execution_count": 28,
   "metadata": {},
   "outputs": [
    {
     "data": {
      "application/vnd.jupyter.widget-view+json": {
       "model_id": "bbb69b3f023a470085817fec5c9094f8",
       "version_major": 2,
       "version_minor": 0
      },
      "text/html": [
       "<p>Failed to display Jupyter Widget of type <code>interactive</code>.</p>\n",
       "<p>\n",
       "  If you're reading this message in the Jupyter Notebook or JupyterLab Notebook, it may mean\n",
       "  that the widgets JavaScript is still loading. If this message persists, it\n",
       "  likely means that the widgets JavaScript library is either not installed or\n",
       "  not enabled. See the <a href=\"https://ipywidgets.readthedocs.io/en/stable/user_install.html\">Jupyter\n",
       "  Widgets Documentation</a> for setup instructions.\n",
       "</p>\n",
       "<p>\n",
       "  If you're reading this message in another frontend (for example, a static\n",
       "  rendering on GitHub or <a href=\"https://nbviewer.jupyter.org/\">NBViewer</a>),\n",
       "  it may mean that your frontend doesn't currently support widgets.\n",
       "</p>\n"
      ],
      "text/plain": [
       "interactive(children=(Dropdown(description='col', options=('WORKSITE', 'JOB_TITLE', 'EMPLOYER_NAME', 'SOC_NAME'), value='WORKSITE'), IntSlider(value=5, description='topN', max=20), Output()), _dom_classes=('widget-interact',))"
      ]
     },
     "metadata": {},
     "output_type": "display_data"
    },
    {
     "data": {
      "text/plain": [
       "<function __main__.topNSalary(col='WORKSITE', topN=5)>"
      ]
     },
     "execution_count": 28,
     "metadata": {},
     "output_type": "execute_result"
    }
   ],
   "source": [
    "interact(topNSalary, col=['WORKSITE', 'JOB_TITLE', 'EMPLOYER_NAME', 'SOC_NAME'], topN = (0, 20))"
   ]
  },
  {
   "cell_type": "markdown",
   "metadata": {},
   "source": [
    "# __4.Machine Learning To Predict The OutCome of H1B Application__"
   ]
  },
  {
   "cell_type": "markdown",
   "metadata": {},
   "source": [
    "Before we proceed to make a predictor to predict the H1B application result, it is important to have a look at the dataset and make some simplification before we proceed to the machine learning algorithm. There are seven outcomes of a H1B visa application: certified-withdrawn, withdrawn, certified, denied, rejected, invalidated, pending quality and compliance review. It is a multiclass classification. The number of each class is shown below as bar chart. We can see that there is much more number of application being approvded than all the other classes combined. "
   ]
  },
  {
   "cell_type": "code",
   "execution_count": 29,
   "metadata": {},
   "outputs": [
    {
     "data": {
      "text/plain": [
       "array(['CERTIFIED-WITHDRAWN', 'WITHDRAWN', 'CERTIFIED', 'DENIED',\n",
       "       'REJECTED', 'INVALIDATED',\n",
       "       'PENDING QUALITY AND COMPLIANCE REVIEW - UNASSIGNED', nan],\n",
       "      dtype=object)"
      ]
     },
     "execution_count": 29,
     "metadata": {},
     "output_type": "execute_result"
    }
   ],
   "source": [
    "data['CASE_STATUS'].unique()"
   ]
  },
  {
   "cell_type": "code",
   "execution_count": 30,
   "metadata": {},
   "outputs": [
    {
     "name": "stdout",
     "output_type": "stream",
     "text": [
      "CERTIFIED                                             2615623\n",
      "CERTIFIED-WITHDRAWN                                    202659\n",
      "DENIED                                                  94346\n",
      "WITHDRAWN                                               89799\n",
      "PENDING QUALITY AND COMPLIANCE REVIEW - UNASSIGNED         15\n",
      "REJECTED                                                    2\n",
      "INVALIDATED                                                 1\n",
      "Name: CASE_STATUS, dtype: int64\n"
     ]
    },
    {
     "data": {
      "text/plain": [
       "<matplotlib.axes._subplots.AxesSubplot at 0x7f0e6c3857f0>"
      ]
     },
     "execution_count": 30,
     "metadata": {},
     "output_type": "execute_result"
    },
    {
     "data": {
      "image/png": "[encoded data removed]",
      "text/plain": [
       "<Figure size 432x288 with 1 Axes>"
      ]
     },
     "metadata": {},
     "output_type": "display_data"
    }
   ],
   "source": [
    "data_outcome = data[data['CASE_STATUS'].notnull()]\n",
    "print(data_outcome['CASE_STATUS'].value_counts())\n",
    "data_outcome['CASE_STATUS'].value_counts().plot(kind='bar', title='H1B APPLICATION RESULTS')"
   ]
  },
  {
   "cell_type": "code",
   "execution_count": 31,
   "metadata": {},
   "outputs": [],
   "source": [
    "df = data.copy()"
   ]
  },
  {
   "cell_type": "markdown",
   "metadata": {},
   "source": [
    "By looking at the total number of H1B applications fall into the seven categories. We have a dominant 'certified' class. All the other classes have a smaller value compared with the 'certified' class. In order to make our life easier and not jeopadize the effect of the classifier, we divided the seven outcomes of the application into to categories: certificed and denied. "
   ]
  },
  {
   "cell_type": "markdown",
   "metadata": {},
   "source": [
    "<font size=5>Now divide the visa application result into two categories, certified and denied"
   ]
  },
  {
   "cell_type": "code",
   "execution_count": 32,
   "metadata": {},
   "outputs": [],
   "source": [
    "warnings.filterwarnings(\"ignore\")\n",
    "\n",
    "df.CASE_STATUS[df['CASE_STATUS']=='WITHDRAWN'] = 'DENIED'\n",
    "df.CASE_STATUS[df['CASE_STATUS']=='REJECTED'] = 'DENIED'\n",
    "df.CASE_STATUS[df['CASE_STATUS']=='INVALIDATED'] = 'DENIED'\n",
    "df.CASE_STATUS[df['CASE_STATUS']=='PENDING QUALITY AND COMPLIANCE REVIEW - UNASSIGNED'] = 'DENIED'\n",
    "df.CASE_STATUS[df['CASE_STATUS']=='CERTIFIED-WITHDRAWN'] = 'CERTIFIED'"
   ]
  },
  {
   "cell_type": "code",
   "execution_count": 33,
   "metadata": {},
   "outputs": [
    {
     "name": "stdout",
     "output_type": "stream",
     "text": [
      "CERTIFIED    2818282\n",
      "DENIED        184163\n",
      "Name: CASE_STATUS, dtype: int64\n"
     ]
    },
    {
     "data": {
      "text/plain": [
       "<matplotlib.axes._subplots.AxesSubplot at 0x7f0e6c3d6a90>"
      ]
     },
     "execution_count": 33,
     "metadata": {},
     "output_type": "execute_result"
    },
    {
     "data": {
      "image/png": "[encoded data removed]",
      "text/plain": [
       "<Figure size 432x288 with 1 Axes>"
      ]
     },
     "metadata": {},
     "output_type": "display_data"
    }
   ],
   "source": [
    "## Storing non null in df w.r.t. case status\n",
    "df = df[df['CASE_STATUS'].notnull()]\n",
    "print(df['CASE_STATUS'].value_counts())\n",
    "df['CASE_STATUS'].value_counts().plot(kind='bar', title='H1B APPLICATION RESULTS')"
   ]
  },
  {
   "cell_type": "markdown",
   "metadata": {},
   "source": [
    "The certified cases take 94% of the total applications, and 6% of the applications are denied. it is a really unbalanced dataset which introduces extra challenges in performing machine learning algorithms."
   ]
  },
  {
   "cell_type": "markdown",
   "metadata": {},
   "source": [
    "It is a good practice to do data cleaning before the data is fed to the machine learning algorithm. We are going to do some fundmental thing, such as looking for NAN in the data and removing them"
   ]
  },
  {
   "cell_type": "code",
   "execution_count": 34,
   "metadata": {},
   "outputs": [
    {
     "name": "stdout",
     "output_type": "stream",
     "text": [
      "the number of nan in each column is:  Unnamed: 0                 0\n",
      "CASE_STATUS                0\n",
      "EMPLOYER_NAME             46\n",
      "SOC_NAME               17721\n",
      "JOB_TITLE                 30\n",
      "FULL_TIME_POSITION         2\n",
      "PREVAILING_WAGE       118993\n",
      "YEAR                       0\n",
      "WORKSITE                   0\n",
      "lon                   107242\n",
      "lat                   107242\n",
      "dtype: int64\n"
     ]
    }
   ],
   "source": [
    "##check count of NAN\n",
    "count_of_nan = len(df) - df.count()\n",
    "print('the number of nan in each column is: ' , count_of_nan)"
   ]
  },
  {
   "cell_type": "code",
   "execution_count": 35,
   "metadata": {},
   "outputs": [
    {
     "name": "stdout",
     "output_type": "stream",
     "text": [
      "the number of nan in each column is:  Unnamed: 0            0\n",
      "CASE_STATUS           0\n",
      "EMPLOYER_NAME         0\n",
      "SOC_NAME              0\n",
      "JOB_TITLE             0\n",
      "FULL_TIME_POSITION    0\n",
      "PREVAILING_WAGE       0\n",
      "YEAR                  0\n",
      "WORKSITE              0\n",
      "dtype: int64\n"
     ]
    }
   ],
   "source": [
    "df = df[df['CASE_STATUS'].notnull()]\n",
    "df = df[df['EMPLOYER_NAME'].notnull()]\n",
    "df = df[df['SOC_NAME'].notnull()]\n",
    "df = df[df['JOB_TITLE'].notnull()]\n",
    "df = df[df['FULL_TIME_POSITION'].notnull()]\n",
    "df = df[df['PREVAILING_WAGE'].notnull()]\n",
    "# Dropping lat and lon columns\n",
    "if 'lat' in df:\n",
    "    df = df.drop('lat', axis = 1)\n",
    "if 'lon' in df:\n",
    "    df = df.drop('lon', axis = 1)\n",
    "count_of_nan = len(df) - df.count()\n",
    "print('the number of nan in each column is: ' , count_of_nan)"
   ]
  },
  {
   "cell_type": "code",
   "execution_count": 37,
   "metadata": {},
   "outputs": [
    {
     "data": {
      "text/plain": [
       "219130"
      ]
     },
     "execution_count": 37,
     "metadata": {},
     "output_type": "execute_result"
    }
   ],
   "source": [
    "Employe_name_list = df['EMPLOYER_NAME'].unique()\n",
    "len(Employe_name_list)"
   ]
  },
  {
   "cell_type": "markdown",
   "metadata": {},
   "source": [
    "There are 219130 different employers in the database. Namely, 219130 features associatd with the name of the employer. It is too much information for an algorithm to handle and have a large chance of introducing overfitting. In order to start simple, the employer has been naively divided into two categories, based on the prior information: __University-based employer__ and __industry-based employer or non-universitg-based employer__. So a new feature whether the employ is a university or not is derived from the employer information column"
   ]
  },
  {
   "cell_type": "code",
   "execution_count": 38,
   "metadata": {},
   "outputs": [],
   "source": [
    "df['WHETHER_EMPLOYER_UNIVERSITY'] = np.nan"
   ]
  },
  {
   "cell_type": "code",
   "execution_count": 40,
   "metadata": {},
   "outputs": [],
   "source": [
    "# to sepearte the data into academia job and not academia job\n",
    "warnings.filterwarnings(\"ignore\")\n",
    "df['EMPLOYER_NAME'] = df['EMPLOYER_NAME'].str.lower()\n",
    "df.WHETHER_EMPLOYER_UNIVERSITY[df['EMPLOYER_NAME'].str.contains('university')] = 'university'\n",
    "df.WHETHER_EMPLOYER_UNIVERSITY[df['EMPLOYER_NAME'].str.contains('college')] = 'university'\n",
    "df['WHETHER_EMPLOYER_UNIVERSITY'] = df['WHETHER_EMPLOYER_UNIVERSITY'].replace(np.nan, 'not a university', regex=True)"
   ]
  },
  {
   "cell_type": "code",
   "execution_count": 41,
   "metadata": {},
   "outputs": [
    {
     "data": {
      "text/plain": [
       "1918"
      ]
     },
     "execution_count": 41,
     "metadata": {},
     "output_type": "execute_result"
    }
   ],
   "source": [
    "soc_list = df['SOC_NAME'].unique()\n",
    "len(soc_list)"
   ]
  },
  {
   "cell_type": "markdown",
   "metadata": {},
   "source": [
    "The same argument holds for the SOC names. SOC names is a assembly of the job types. There are total of 1918 types of jobs. To prevent overfitting, it has been divided into two categories: __CS jobs__ and __NON-CS jobs__. "
   ]
  },
  {
   "cell_type": "code",
   "execution_count": 42,
   "metadata": {},
   "outputs": [],
   "source": [
    "df['WHETHER_CS'] = np.nan"
   ]
  },
  {
   "cell_type": "code",
   "execution_count": 43,
   "metadata": {},
   "outputs": [],
   "source": [
    "# to sepearte the data into CS job and not CS job\n",
    "warnings.filterwarnings(\"ignore\")\n",
    "df['SOC_NAME'] = df['SOC_NAME'].str.lower()\n",
    "df.WHETHER_CS[df['SOC_NAME'].str.contains('computer')] = 'CS'\n",
    "df.WHETHER_CS[df['SOC_NAME'].str.contains('software')] = 'CS'\n",
    "df.WHETHER_CS[df['SOC_NAME'].str.contains('data')] = 'CS'\n",
    "df.WHETHER_CS[df['SOC_NAME'].str.contains('programmer')] = 'CS'\n",
    "df.WHETHER_CS[df['SOC_NAME'].str.contains('developer')] = 'CS'\n",
    "df.WHETHER_CS[df['SOC_NAME'].str.contains('web')] = 'CS'\n",
    "df['WHETHER_CS'] = df['WHETHER_CS'].replace(np.nan, 'not a CS job')"
   ]
  },
  {
   "cell_type": "markdown",
   "metadata": {},
   "source": [
    "The location of the application is another feature/vairable provided in the dataset. Considering the fact that all the H1B application in the same satet will be processed at the same H1B application processing center, there is no need to keep such a detailed geolocation. So the city information has been discarded and only the state information is kept."
   ]
  },
  {
   "cell_type": "code",
   "execution_count": 44,
   "metadata": {},
   "outputs": [],
   "source": [
    "## Splitting city and state and capturing state in another variable\n",
    "df['state'] = df.WORKSITE.str.split(',').str[-1].str.lstrip()\n",
    "df = df[df.state != 'NA']"
   ]
  },
  {
   "cell_type": "code",
   "execution_count": 46,
   "metadata": {},
   "outputs": [
    {
     "data": {
      "text/plain": [
       "Unnamed: 0                       int64\n",
       "CASE_STATUS                     object\n",
       "EMPLOYER_NAME                   object\n",
       "SOC_NAME                        object\n",
       "JOB_TITLE                       object\n",
       "FULL_TIME_POSITION              object\n",
       "PREVAILING_WAGE                float64\n",
       "YEAR                           float64\n",
       "WORKSITE                        object\n",
       "WHETHER_EMPLOYER_UNIVERSITY     object\n",
       "WHETHER_CS                      object\n",
       "state                           object\n",
       "dtype: object"
      ]
     },
     "execution_count": 46,
     "metadata": {},
     "output_type": "execute_result"
    }
   ],
   "source": [
    "df.dtypes"
   ]
  },
  {
   "cell_type": "code",
   "execution_count": 152,
   "metadata": {},
   "outputs": [],
   "source": [
    "df1 = df.copy()\n",
    "for col in ['CASE_STATUS', 'WHETHER_CS', 'FULL_TIME_POSITION', 'YEAR', 'WHETHER_EMPLOYER_UNIVERSITY', 'state']:\n",
    "    df1[col] = df1[col].astype('category')"
   ]
  },
  {
   "cell_type": "code",
   "execution_count": 153,
   "metadata": {},
   "outputs": [
    {
     "data": {
      "text/plain": [
       "Unnamed: 0                        int64\n",
       "CASE_STATUS                    category\n",
       "EMPLOYER_NAME                    object\n",
       "SOC_NAME                         object\n",
       "JOB_TITLE                        object\n",
       "FULL_TIME_POSITION             category\n",
       "PREVAILING_WAGE                 float64\n",
       "YEAR                           category\n",
       "WORKSITE                         object\n",
       "WHETHER_EMPLOYER_UNIVERSITY    category\n",
       "WHETHER_CS                     category\n",
       "state                          category\n",
       "dtype: object"
      ]
     },
     "execution_count": 153,
     "metadata": {},
     "output_type": "execute_result"
    }
   ],
   "source": [
    "df1.dtypes"
   ]
  },
  {
   "cell_type": "markdown",
   "metadata": {},
   "source": [
    "After doing some feature engineering, two new columns are introduced into the dataset: Whether CS (whether the occupation is Computer Science related job), and Whether_emploer_university (whether the employer is a university or research institute) based on prior knowledge.\n",
    "<br>\n",
    "And it is the time to validate our intuition and prior knowlege to see whether such a feature extraction makes sense.__New York__, __California__ and __Texas__ are the top three job providers for the foreigners in both academia and the industry. Although these three states offer more or less the same academia jobs, when it comes to the industry-based job opportunities California outnumbers the other ones significantly."
   ]
  },
  {
   "cell_type": "code",
   "execution_count": 154,
   "metadata": {},
   "outputs": [
    {
     "data": {
      "image/png": "[encoded data removed]",
      "text/plain": [
       "<Figure size 864x288 with 1 Axes>"
      ]
     },
     "metadata": {},
     "output_type": "display_data"
    }
   ],
   "source": [
    "#h1b applied vs year\n",
    "df1_temp = df1[df1.WHETHER_EMPLOYER_UNIVERSITY == 'university']\n",
    "sns.set_context(\"notebook\",font_scale= 1.0)\n",
    "\n",
    "plt.figure(figsize=(12,4))\n",
    "plt.title('University based h1b petitions filed per state')\n",
    "ax_temp = sns.countplot(x = 'state',\n",
    "              data = df1_temp,\n",
    "              order = df1_temp['state'].value_counts().index)\n",
    "ax_temp.set_xticklabels(ax_temp.get_xticklabels(), rotation= 40, ha=\"right\")\n",
    "plt.tight_layout()\n",
    "plt.show()"
   ]
  },
  {
   "cell_type": "code",
   "execution_count": 155,
   "metadata": {},
   "outputs": [
    {
     "data": {
      "image/png": "[encoded data removed]",
      "text/plain": [
       "<Figure size 864x288 with 1 Axes>"
      ]
     },
     "metadata": {},
     "output_type": "display_data"
    }
   ],
   "source": [
    "plt.figure(figsize=(12,4))\n",
    "df1_temp1 = df1[df1.WHETHER_EMPLOYER_UNIVERSITY == 'not a university']\n",
    "plt.title('Non-University based h1b petitions filed per state')\n",
    "ax_temp1 = sns.countplot(x = 'state',\n",
    "              data = df1_temp1 ,\n",
    "              order = df1_temp1 ['state'].value_counts().index)\n",
    "ax_temp1.set_xticklabels(ax_temp1.get_xticklabels(), rotation=40, ha=\"right\")\n",
    "plt.tight_layout()\n",
    "plt.show()"
   ]
  },
  {
   "cell_type": "markdown",
   "metadata": {},
   "source": [
    "Although from the violin plot in the previous session shows that the salary distribution for each years stay the same. But it turns out the more and more job opportunities are created for foreigners from 2012 to 2016."
   ]
  },
  {
   "cell_type": "markdown",
   "metadata": {},
   "source": [
    "__Total number of job applications throughout the 2011-2016 period__"
   ]
  },
  {
   "cell_type": "code",
   "execution_count": 156,
   "metadata": {},
   "outputs": [
    {
     "name": "stdout",
     "output_type": "stream",
     "text": [
      "YEAR\n",
      "2011.0    331162\n",
      "2012.0    391651\n",
      "2013.0    421129\n",
      "2014.0    496234\n",
      "2015.0    598471\n",
      "2016.0    625155\n",
      "dtype: int64\n"
     ]
    }
   ],
   "source": [
    "from scipy.optimize import curve_fit\n",
    "NumberJobs_Year = df1[['WHETHER_CS','YEAR']]\n",
    "NumberJobs = NumberJobs_Year.groupby('YEAR').size()\n",
    "print(NumberJobs)"
   ]
  },
  {
   "cell_type": "markdown",
   "metadata": {},
   "source": [
    "__Total number of Computer Science job applications throughout the 2011-2016 period__"
   ]
  },
  {
   "cell_type": "code",
   "execution_count": 157,
   "metadata": {},
   "outputs": [
    {
     "name": "stdout",
     "output_type": "stream",
     "text": [
      "YEAR\n",
      "2011.0    177756\n",
      "2012.0    232930\n",
      "2013.0    272932\n",
      "2014.0    333498\n",
      "2015.0    422460\n",
      "2016.0    442868\n",
      "dtype: int64\n"
     ]
    }
   ],
   "source": [
    "NumberofCSJobs_Year = NumberJobs_Year[NumberJobs_Year.WHETHER_CS == 'CS']\n",
    "NumberOfCSJobs_In_Each_Year = NumberofCSJobs_Year.groupby('YEAR').size()\n",
    "print(NumberOfCSJobs_In_Each_Year)"
   ]
  },
  {
   "cell_type": "markdown",
   "metadata": {},
   "source": [
    "__Total number of other majors except Computer Science job applications throughout the 2011-2016 period__"
   ]
  },
  {
   "cell_type": "code",
   "execution_count": 158,
   "metadata": {},
   "outputs": [
    {
     "name": "stdout",
     "output_type": "stream",
     "text": [
      "YEAR\n",
      "2011.0    153406\n",
      "2012.0    158721\n",
      "2013.0    148197\n",
      "2014.0    162736\n",
      "2015.0    176011\n",
      "2016.0    182287\n",
      "dtype: int64\n"
     ]
    }
   ],
   "source": [
    "NumberofNONCSJobs_Year = NumberJobs_Year[NumberJobs_Year.WHETHER_CS == 'not a CS job']\n",
    "NumberOfNONCSJobs_In_Each_Year = NumberofNONCSJobs_Year.groupby('YEAR').size()\n",
    "print(NumberOfNONCSJobs_In_Each_Year)"
   ]
  },
  {
   "cell_type": "markdown",
   "metadata": {},
   "source": [
    "__The CS related jobs see a almost linear increase every year, however the job from the other categories does not have such an increase speed__. By simply extrapolating the original dataset and assuming the trend of application keeps, we got the estimated 2017 number of H1B applications."
   ]
  },
  {
   "cell_type": "code",
   "execution_count": 159,
   "metadata": {},
   "outputs": [
    {
     "data": {
      "image/png": "[encoded data removed]",
      "text/plain": [
       "<Figure size 432x288 with 1 Axes>"
      ]
     },
     "metadata": {},
     "output_type": "display_data"
    }
   ],
   "source": [
    "def plotfittedcurve_CS (df):\n",
    "    from scipy.optimize import curve_fit\n",
    "    def func(x, a, b, c):\n",
    "        return a * np.exp(-b * x) + c\n",
    "    year = np.array([0,1,2,3,4,5])\n",
    "    NumberJobs = np.array(df)\n",
    "    popt, pcov = curve_fit(func, year, NumberJobs)\n",
    "\n",
    "    yearPred = np.array([0,1,2,3,4,5,6,7])\n",
    "    p1, = plt.plot(yearPred, func(yearPred, *popt), 'g-', label = 'CS hisotry')\n",
    "    plt.scatter(year, NumberJobs)\n",
    "\n",
    "    yearPred1 = np.array([6,7])\n",
    "    p2, = plt.plot(yearPred1, func(yearPred1, *popt), 'k-', linewidth = 3.0, label = 'CS pred')\n",
    "\n",
    "    my_xticks = ['2011', '2012', '2013', '2014', '2015', '2016', '2017', '2018']\n",
    "    plt.xticks(year, my_xticks)\n",
    "    plt.xticks(yearPred, my_xticks)\n",
    "    plt.ylabel('Number Of Jobs')\n",
    "    plt.legend(handles = [p1, p2])\n",
    "    \n",
    "    #line_up, = plt.plot([1,2,3], label='Line 2')\n",
    "    #line_down, = plt.plot([3,2,1], label='Line 1')\n",
    "    #plt.legend(handles=[line_up, line_down])\n",
    "    \n",
    "    \n",
    "def plotfittedcurve_nonCS (df):\n",
    "    from scipy.optimize import curve_fit\n",
    "    def func(x, a, b, c):\n",
    "        return a * np.exp(-b * x) + c\n",
    "    year = np.array([0,1,2,3,4,5])\n",
    "    NumberJobs = np.array(df)\n",
    "    popt, pcov = curve_fit(func, year, NumberJobs)\n",
    "\n",
    "    yearPred = np.array([0,1,2,3,4,5,6,7])\n",
    "    p1, = plt.plot(yearPred, func(yearPred, *popt), 'r-', label='nonCS history', linewidth = 2.0)\n",
    "    plt.scatter(year, NumberJobs)\n",
    "\n",
    "    yearPred1 = np.array([6,7])\n",
    "    p2, = plt.plot(yearPred1, func(yearPred1, *popt), 'c-', label = 'nonCS pred', linewidth = 3.0)\n",
    "\n",
    "    my_xticks = ['2011', '2012', '2013', '2014', '2015', '2016', '2017', '2018']\n",
    "    plt.xticks(year, my_xticks)\n",
    "    plt.xticks(yearPred, my_xticks)\n",
    "    plt.ylabel('Number Of Jobs')\n",
    "    plt.legend(handles = [p1, p2])\n",
    "    plt.legend(bbox_to_anchor=(0.45, 0.85),\n",
    "           bbox_transform=plt.gcf().transFigure)\n",
    "    \n",
    "plotfittedcurve_CS(NumberOfCSJobs_In_Each_Year)\n",
    "plotfittedcurve_nonCS(NumberOfNONCSJobs_In_Each_Year)"
   ]
  },
  {
   "cell_type": "code",
   "execution_count": 160,
   "metadata": {},
   "outputs": [
    {
     "data": {
      "text/html": [
       "<div>\n",
       "<style scoped>\n",
       "    .dataframe tbody tr th:only-of-type {\n",
       "        vertical-align: middle;\n",
       "    }\n",
       "\n",
       "    .dataframe tbody tr th {\n",
       "        vertical-align: top;\n",
       "    }\n",
       "\n",
       "    .dataframe thead th {\n",
       "        text-align: right;\n",
       "    }\n",
       "</style>\n",
       "<table border=\"1\" class=\"dataframe\">\n",
       "  <thead>\n",
       "    <tr style=\"text-align: right;\">\n",
       "      <th></th>\n",
       "      <th>Unnamed: 0</th>\n",
       "      <th>CASE_STATUS</th>\n",
       "      <th>EMPLOYER_NAME</th>\n",
       "      <th>SOC_NAME</th>\n",
       "      <th>JOB_TITLE</th>\n",
       "      <th>FULL_TIME_POSITION</th>\n",
       "      <th>PREVAILING_WAGE</th>\n",
       "      <th>YEAR</th>\n",
       "      <th>WORKSITE</th>\n",
       "      <th>WHETHER_EMPLOYER_UNIVERSITY</th>\n",
       "      <th>WHETHER_CS</th>\n",
       "      <th>state</th>\n",
       "    </tr>\n",
       "  </thead>\n",
       "  <tbody>\n",
       "    <tr>\n",
       "      <th>0</th>\n",
       "      <td>1</td>\n",
       "      <td>CERTIFIED</td>\n",
       "      <td>university of michigan</td>\n",
       "      <td>biochemists and biophysicists</td>\n",
       "      <td>POSTDOCTORAL RESEARCH FELLOW</td>\n",
       "      <td>N</td>\n",
       "      <td>36067.0</td>\n",
       "      <td>2016.0</td>\n",
       "      <td>ANN ARBOR, MICHIGAN</td>\n",
       "      <td>university</td>\n",
       "      <td>not a CS job</td>\n",
       "      <td>MICHIGAN</td>\n",
       "    </tr>\n",
       "    <tr>\n",
       "      <th>6</th>\n",
       "      <td>7</td>\n",
       "      <td>CERTIFIED</td>\n",
       "      <td>bt and mk energy and commodities</td>\n",
       "      <td>chief executives</td>\n",
       "      <td>CHIEF OPERATING OFFICER</td>\n",
       "      <td>Y</td>\n",
       "      <td>91021.0</td>\n",
       "      <td>2016.0</td>\n",
       "      <td>HOUSTON, TEXAS</td>\n",
       "      <td>not a university</td>\n",
       "      <td>not a CS job</td>\n",
       "      <td>TEXAS</td>\n",
       "    </tr>\n",
       "    <tr>\n",
       "      <th>8</th>\n",
       "      <td>9</td>\n",
       "      <td>CERTIFIED</td>\n",
       "      <td>esi companies inc.</td>\n",
       "      <td>chief executives</td>\n",
       "      <td>PRESIDENT</td>\n",
       "      <td>Y</td>\n",
       "      <td>127546.0</td>\n",
       "      <td>2016.0</td>\n",
       "      <td>MEMPHIS, TEXAS</td>\n",
       "      <td>not a university</td>\n",
       "      <td>not a CS job</td>\n",
       "      <td>TEXAS</td>\n",
       "    </tr>\n",
       "    <tr>\n",
       "      <th>14</th>\n",
       "      <td>15</td>\n",
       "      <td>CERTIFIED</td>\n",
       "      <td>newmont mining corporation</td>\n",
       "      <td>chief executives</td>\n",
       "      <td>BOARD MEMBER</td>\n",
       "      <td>Y</td>\n",
       "      <td>105914.0</td>\n",
       "      <td>2016.0</td>\n",
       "      <td>GREENWOOD VILLAGE, COLORADO</td>\n",
       "      <td>not a university</td>\n",
       "      <td>not a CS job</td>\n",
       "      <td>COLORADO</td>\n",
       "    </tr>\n",
       "    <tr>\n",
       "      <th>16</th>\n",
       "      <td>17</td>\n",
       "      <td>CERTIFIED</td>\n",
       "      <td>cardiac science corporation</td>\n",
       "      <td>financial managers</td>\n",
       "      <td>VICE PRESIDENT OF FINANCE</td>\n",
       "      <td>Y</td>\n",
       "      <td>90834.0</td>\n",
       "      <td>2016.0</td>\n",
       "      <td>WAUKESHA, WISCONSIN</td>\n",
       "      <td>not a university</td>\n",
       "      <td>not a CS job</td>\n",
       "      <td>WISCONSIN</td>\n",
       "    </tr>\n",
       "  </tbody>\n",
       "</table>\n",
       "</div>"
      ],
      "text/plain": [
       "    Unnamed: 0 CASE_STATUS                     EMPLOYER_NAME  \\\n",
       "0            1   CERTIFIED            university of michigan   \n",
       "6            7   CERTIFIED  bt and mk energy and commodities   \n",
       "8            9   CERTIFIED                esi companies inc.   \n",
       "14          15   CERTIFIED        newmont mining corporation   \n",
       "16          17   CERTIFIED       cardiac science corporation   \n",
       "\n",
       "                         SOC_NAME                     JOB_TITLE  \\\n",
       "0   biochemists and biophysicists  POSTDOCTORAL RESEARCH FELLOW   \n",
       "6                chief executives       CHIEF OPERATING OFFICER   \n",
       "8                chief executives                     PRESIDENT   \n",
       "14               chief executives                  BOARD MEMBER   \n",
       "16             financial managers     VICE PRESIDENT OF FINANCE   \n",
       "\n",
       "   FULL_TIME_POSITION  PREVAILING_WAGE    YEAR                     WORKSITE  \\\n",
       "0                   N          36067.0  2016.0          ANN ARBOR, MICHIGAN   \n",
       "6                   Y          91021.0  2016.0               HOUSTON, TEXAS   \n",
       "8                   Y         127546.0  2016.0               MEMPHIS, TEXAS   \n",
       "14                  Y         105914.0  2016.0  GREENWOOD VILLAGE, COLORADO   \n",
       "16                  Y          90834.0  2016.0          WAUKESHA, WISCONSIN   \n",
       "\n",
       "   WHETHER_EMPLOYER_UNIVERSITY    WHETHER_CS      state  \n",
       "0                   university  not a CS job   MICHIGAN  \n",
       "6             not a university  not a CS job      TEXAS  \n",
       "8             not a university  not a CS job      TEXAS  \n",
       "14            not a university  not a CS job   COLORADO  \n",
       "16            not a university  not a CS job  WISCONSIN  "
      ]
     },
     "execution_count": 160,
     "metadata": {},
     "output_type": "execute_result"
    }
   ],
   "source": [
    "df1.head()"
   ]
  },
  {
   "cell_type": "markdown",
   "metadata": {},
   "source": [
    "We observe that except for the prevailing wage and year, all the other features are strings. In order to to resampling in the following steps, it is a good idea to use number to replace string in each features. We can start by creating such mapping relations"
   ]
  },
  {
   "cell_type": "code",
   "execution_count": 161,
   "metadata": {},
   "outputs": [],
   "source": [
    "stateList = df1.state.unique().tolist()\n",
    "indexState = [i for i in range(len(stateList))]\n",
    "class_mapping_state = dict(zip(stateList, indexState))\n",
    "df1[\"state\"] = df1[\"state\"].map(class_mapping_state)\n",
    "\n",
    "yearList = df1.YEAR.unique().tolist()\n",
    "indexYear = [i for i in range(len(yearList))] \n",
    "class_mapping_year = dict(zip(yearList, indexYear))\n",
    "df1[\"YEAR\"] = df1[\"YEAR\"].map(class_mapping_year)\n",
    "\n",
    "class_mapping_casestatus = {'CERTIFIED' : 0, 'DENIED' : 1}\n",
    "df1[\"CASE_STATUS\"] = df1[\"CASE_STATUS\"].map(class_mapping_casestatus)\n",
    "\n",
    "class_mapping_university = {'university' : 0, 'not a university' : 1}\n",
    "df1[\"WHETHER_EMPLOYER_UNIVERSITY\"] = df1[\"WHETHER_EMPLOYER_UNIVERSITY\"].map(class_mapping_university)\n",
    "\n",
    "class_mapping_cs = {'CS' : 0, 'not a CS job' : 1}\n",
    "df1[\"WHETHER_CS\"] = df1[\"WHETHER_CS\"].map(class_mapping_cs)\n",
    "\n",
    "class_mapping_fulltime = {'Y' : 0, 'N' : 1}\n",
    "df1[\"FULL_TIME_POSITION\"] = df1[\"FULL_TIME_POSITION\"].map(class_mapping_fulltime)"
   ]
  },
  {
   "cell_type": "code",
   "execution_count": 162,
   "metadata": {},
   "outputs": [],
   "source": [
    "df1 = df1[df1['CASE_STATUS'].notnull()]\n",
    "df1 = df1[df1['WHETHER_EMPLOYER_UNIVERSITY'].notnull()]\n",
    "df1 = df1[df1['WHETHER_CS'].notnull()]\n",
    "df1 = df1[df1['FULL_TIME_POSITION'].notnull()]\n",
    "df1 = df1[df1['PREVAILING_WAGE'].notnull()]\n",
    "df1 = df1[df1['state'].notnull()]"
   ]
  },
  {
   "cell_type": "code",
   "execution_count": 163,
   "metadata": {},
   "outputs": [
    {
     "name": "stdout",
     "output_type": "stream",
     "text": [
      "the number of nan in each column is:  Unnamed: 0                     0\n",
      "CASE_STATUS                    0\n",
      "EMPLOYER_NAME                  0\n",
      "SOC_NAME                       0\n",
      "JOB_TITLE                      0\n",
      "FULL_TIME_POSITION             0\n",
      "PREVAILING_WAGE                0\n",
      "YEAR                           0\n",
      "WORKSITE                       0\n",
      "WHETHER_EMPLOYER_UNIVERSITY    0\n",
      "WHETHER_CS                     0\n",
      "state                          0\n",
      "dtype: int64\n"
     ]
    }
   ],
   "source": [
    "count_of_nan_df1 = len(df1) - df1.count()\n",
    "print('the number of nan in each column is: ' , count_of_nan_df1)"
   ]
  },
  {
   "cell_type": "markdown",
   "metadata": {},
   "source": [
    "__Let us starts from a subset of the original dataset to perform some classification__. And call the random sampled subset df2, datafram 2."
   ]
  },
  {
   "cell_type": "code",
   "execution_count": 204,
   "metadata": {},
   "outputs": [
    {
     "name": "stdout",
     "output_type": "stream",
     "text": [
      "the total number of valid records in the dataset is 2863802\n"
     ]
    }
   ],
   "source": [
    "warnings.filterwarnings(\"ignore\")\n",
    "from sklearn import preprocessing\n",
    "dimension = df1.shape\n",
    "print(\"the total number of valid records in the dataset is %d\"%dimension[0])\n",
    "nsamples = min(500000, dimension[0])\n",
    "simple_random_sampling = np.random.randint(0, dimension[0], nsamples)\n",
    "df2 = df1.ix[simple_random_sampling]"
   ]
  },
  {
   "cell_type": "markdown",
   "metadata": {},
   "source": [
    "Seperate the features and the outcome of the dataset and name them as __inputX__ and __labels__ accordingly."
   ]
  },
  {
   "cell_type": "code",
   "execution_count": 205,
   "metadata": {},
   "outputs": [
    {
     "data": {
      "text/html": [
       "<div>\n",
       "<style scoped>\n",
       "    .dataframe tbody tr th:only-of-type {\n",
       "        vertical-align: middle;\n",
       "    }\n",
       "\n",
       "    .dataframe tbody tr th {\n",
       "        vertical-align: top;\n",
       "    }\n",
       "\n",
       "    .dataframe thead th {\n",
       "        text-align: right;\n",
       "    }\n",
       "</style>\n",
       "<table border=\"1\" class=\"dataframe\">\n",
       "  <thead>\n",
       "    <tr style=\"text-align: right;\">\n",
       "      <th></th>\n",
       "      <th>Unnamed: 0</th>\n",
       "      <th>CASE_STATUS</th>\n",
       "      <th>EMPLOYER_NAME</th>\n",
       "      <th>SOC_NAME</th>\n",
       "      <th>JOB_TITLE</th>\n",
       "      <th>FULL_TIME_POSITION</th>\n",
       "      <th>PREVAILING_WAGE</th>\n",
       "      <th>YEAR</th>\n",
       "      <th>WORKSITE</th>\n",
       "      <th>WHETHER_EMPLOYER_UNIVERSITY</th>\n",
       "      <th>WHETHER_CS</th>\n",
       "      <th>state</th>\n",
       "    </tr>\n",
       "  </thead>\n",
       "  <tbody>\n",
       "    <tr>\n",
       "      <th>1795573</th>\n",
       "      <td>1795574.0</td>\n",
       "      <td>0.0</td>\n",
       "      <td>dst brokerage solutions, llc</td>\n",
       "      <td>software developers, applications</td>\n",
       "      <td>SOFTWARE ENGINEER</td>\n",
       "      <td>0.0</td>\n",
       "      <td>72654.0</td>\n",
       "      <td>3.0</td>\n",
       "      <td>KANSAS CITY, MISSOURI</td>\n",
       "      <td>1.0</td>\n",
       "      <td>0.0</td>\n",
       "      <td>20.0</td>\n",
       "    </tr>\n",
       "    <tr>\n",
       "      <th>1098318</th>\n",
       "      <td>1098319.0</td>\n",
       "      <td>0.0</td>\n",
       "      <td>administrative office of the courts</td>\n",
       "      <td>computer network support specialists</td>\n",
       "      <td>SYSTEM SUPPORT ANALYST - TESTER</td>\n",
       "      <td>0.0</td>\n",
       "      <td>55869.0</td>\n",
       "      <td>1.0</td>\n",
       "      <td>OLYMPIA, WASHINGTON</td>\n",
       "      <td>1.0</td>\n",
       "      <td>0.0</td>\n",
       "      <td>18.0</td>\n",
       "    </tr>\n",
       "    <tr>\n",
       "      <th>2113091</th>\n",
       "      <td>2113092.0</td>\n",
       "      <td>0.0</td>\n",
       "      <td>24/7 media, inc.</td>\n",
       "      <td>software developers, systems software</td>\n",
       "      <td>QA ENGINEER</td>\n",
       "      <td>0.0</td>\n",
       "      <td>86050.0</td>\n",
       "      <td>3.0</td>\n",
       "      <td>NEW YORK, NEW YORK</td>\n",
       "      <td>1.0</td>\n",
       "      <td>0.0</td>\n",
       "      <td>10.0</td>\n",
       "    </tr>\n",
       "    <tr>\n",
       "      <th>183670</th>\n",
       "      <td>183671.0</td>\n",
       "      <td>0.0</td>\n",
       "      <td>infosys limited</td>\n",
       "      <td>computer systems analyst</td>\n",
       "      <td>CONSULTANT - US - PRACTITIONER</td>\n",
       "      <td>0.0</td>\n",
       "      <td>82014.0</td>\n",
       "      <td>0.0</td>\n",
       "      <td>PLYMOUTH, MICHIGAN</td>\n",
       "      <td>1.0</td>\n",
       "      <td>0.0</td>\n",
       "      <td>0.0</td>\n",
       "    </tr>\n",
       "    <tr>\n",
       "      <th>2350634</th>\n",
       "      <td>2350635.0</td>\n",
       "      <td>0.0</td>\n",
       "      <td>deloitte consulting llp</td>\n",
       "      <td>financial analysts</td>\n",
       "      <td>SENIOR CONSULTANT</td>\n",
       "      <td>0.0</td>\n",
       "      <td>63440.0</td>\n",
       "      <td>4.0</td>\n",
       "      <td>OAK CREEK, WISCONSIN</td>\n",
       "      <td>1.0</td>\n",
       "      <td>1.0</td>\n",
       "      <td>3.0</td>\n",
       "    </tr>\n",
       "  </tbody>\n",
       "</table>\n",
       "</div>"
      ],
      "text/plain": [
       "         Unnamed: 0  CASE_STATUS                        EMPLOYER_NAME  \\\n",
       "1795573   1795574.0          0.0         dst brokerage solutions, llc   \n",
       "1098318   1098319.0          0.0  administrative office of the courts   \n",
       "2113091   2113092.0          0.0                     24/7 media, inc.   \n",
       "183670     183671.0          0.0                      infosys limited   \n",
       "2350634   2350635.0          0.0              deloitte consulting llp   \n",
       "\n",
       "                                      SOC_NAME  \\\n",
       "1795573      software developers, applications   \n",
       "1098318   computer network support specialists   \n",
       "2113091  software developers, systems software   \n",
       "183670                computer systems analyst   \n",
       "2350634                     financial analysts   \n",
       "\n",
       "                               JOB_TITLE  FULL_TIME_POSITION  PREVAILING_WAGE  \\\n",
       "1795573                SOFTWARE ENGINEER                 0.0          72654.0   \n",
       "1098318  SYSTEM SUPPORT ANALYST - TESTER                 0.0          55869.0   \n",
       "2113091                      QA ENGINEER                 0.0          86050.0   \n",
       "183670    CONSULTANT - US - PRACTITIONER                 0.0          82014.0   \n",
       "2350634                SENIOR CONSULTANT                 0.0          63440.0   \n",
       "\n",
       "         YEAR               WORKSITE  WHETHER_EMPLOYER_UNIVERSITY  WHETHER_CS  \\\n",
       "1795573   3.0  KANSAS CITY, MISSOURI                          1.0         0.0   \n",
       "1098318   1.0    OLYMPIA, WASHINGTON                          1.0         0.0   \n",
       "2113091   3.0     NEW YORK, NEW YORK                          1.0         0.0   \n",
       "183670    0.0     PLYMOUTH, MICHIGAN                          1.0         0.0   \n",
       "2350634   4.0   OAK CREEK, WISCONSIN                          1.0         1.0   \n",
       "\n",
       "         state  \n",
       "1795573   20.0  \n",
       "1098318   18.0  \n",
       "2113091   10.0  \n",
       "183670     0.0  \n",
       "2350634    3.0  "
      ]
     },
     "execution_count": 205,
     "metadata": {},
     "output_type": "execute_result"
    }
   ],
   "source": [
    "df2 = df2.dropna()\n",
    "df2.head()"
   ]
  },
  {
   "cell_type": "code",
   "execution_count": 206,
   "metadata": {},
   "outputs": [],
   "source": [
    "inputX = pd.DataFrame({'FULL_TIME_POSITION':df2.FULL_TIME_POSITION.values.astype(int),\\\n",
    "                       'PREVAILING_WAGE':df2.PREVAILING_WAGE.values.astype(float), \\\n",
    "                       'YEAR':df2.YEAR.values.astype(int),\\\n",
    "                       'WHETHER_EMPLOYER_UNIVERSITY':df2.WHETHER_EMPLOYER_UNIVERSITY.values.astype(int), \\\n",
    "                       'WHETHER_CS':df2.WHETHER_CS.values.astype(int),\\\n",
    "                       'state':df2.state.values.astype(int)})\n",
    "\n",
    "labels = pd.Series(df2.CASE_STATUS.values.astype(int))"
   ]
  },
  {
   "cell_type": "code",
   "execution_count": 207,
   "metadata": {},
   "outputs": [],
   "source": [
    "inputX[['FULL_TIME_POSITION', 'YEAR','WHETHER_EMPLOYER_UNIVERSITY','WHETHER_CS','state']] = \\\n",
    "                                inputX[['FULL_TIME_POSITION', 'YEAR','WHETHER_EMPLOYER_UNIVERSITY','WHETHER_CS','state']].\\\n",
    "                                                                               apply(lambda x: x.astype('category'))\n",
    "labels = labels.astype('category')"
   ]
  },
  {
   "cell_type": "code",
   "execution_count": 208,
   "metadata": {},
   "outputs": [],
   "source": [
    "inputX_encode = pd.get_dummies(inputX)\n",
    "inputX_encode_values = inputX_encode.as_matrix()\n",
    "labels_values = labels.as_matrix()"
   ]
  },
  {
   "cell_type": "code",
   "execution_count": 209,
   "metadata": {},
   "outputs": [],
   "source": [
    "from sklearn.model_selection import train_test_split\n",
    "X_trainB, X_testB, y_trainB, y_testB = \\\n",
    "        train_test_split(inputX_encode_values, labels_values, test_size = 0.2, random_state = 42)"
   ]
  },
  {
   "cell_type": "code",
   "execution_count": 210,
   "metadata": {},
   "outputs": [],
   "source": [
    "import xgboost\n",
    "gbm  = xgboost.XGBClassifier(max_depth=3,\n",
    "                             n_estimators=500, \n",
    "                             gamma = 0, \n",
    "                             learning_rate = 0.01)"
   ]
  },
  {
   "cell_type": "code",
   "execution_count": 211,
   "metadata": {
    "scrolled": true
   },
   "outputs": [],
   "source": [
    "fit_before = gbm.fit(X_trainB, y_trainB)"
   ]
  },
  {
   "cell_type": "code",
   "execution_count": 212,
   "metadata": {},
   "outputs": [],
   "source": [
    "y_predB = gbm.predict(X_testB)"
   ]
  },
  {
   "cell_type": "code",
   "execution_count": 213,
   "metadata": {},
   "outputs": [
    {
     "name": "stdout",
     "output_type": "stream",
     "text": [
      "[[90236     0]\n",
      " [ 5276     0]]\n"
     ]
    }
   ],
   "source": [
    "from sklearn.metrics import confusion_matrix\n",
    "print(confusion_matrix(y_testB, y_predB))"
   ]
  },
  {
   "cell_type": "code",
   "execution_count": 214,
   "metadata": {},
   "outputs": [
    {
     "data": {
      "text/plain": [
       "<matplotlib.axes._subplots.AxesSubplot at 0x7f0de05fa400>"
      ]
     },
     "execution_count": 214,
     "metadata": {},
     "output_type": "execute_result"
    },
    {
     "data": {
      "image/png": "[encoded data removed]",
      "text/plain": [
       "<Figure size 432x288 with 2 Axes>"
      ]
     },
     "metadata": {},
     "output_type": "display_data"
    }
   ],
   "source": [
    "#plt.figure(figsize = (10,7))\n",
    "df_cm = pd.DataFrame(confusion_matrix(y_testB, y_predB), range(2), range(2))\n",
    "sns.set(font_scale = 1.4)#for label size\n",
    "sns.heatmap(df_cm, annot=True, annot_kws={\"size\": 16})# font size"
   ]
  },
  {
   "cell_type": "markdown",
   "metadata": {},
   "source": [
    "It turns out that the true positive is zero in the above case, the denied case cannot be captured at all\n",
    "which implies that it is necessary to try resampling the input data before trying "
   ]
  },
  {
   "cell_type": "code",
   "execution_count": 227,
   "metadata": {},
   "outputs": [
    {
     "data": {
      "text/html": [
       "<div>\n",
       "<style scoped>\n",
       "    .dataframe tbody tr th:only-of-type {\n",
       "        vertical-align: middle;\n",
       "    }\n",
       "\n",
       "    .dataframe tbody tr th {\n",
       "        vertical-align: top;\n",
       "    }\n",
       "\n",
       "    .dataframe thead th {\n",
       "        text-align: right;\n",
       "    }\n",
       "</style>\n",
       "<table border=\"1\" class=\"dataframe\">\n",
       "  <thead>\n",
       "    <tr style=\"text-align: right;\">\n",
       "      <th></th>\n",
       "      <th>FULL_TIME_POSITION</th>\n",
       "      <th>PREVAILING_WAGE</th>\n",
       "      <th>YEAR</th>\n",
       "      <th>WHETHER_EMPLOYER_UNIVERSITY</th>\n",
       "      <th>WHETHER_CS</th>\n",
       "      <th>state</th>\n",
       "    </tr>\n",
       "  </thead>\n",
       "  <tbody>\n",
       "    <tr>\n",
       "      <th>0</th>\n",
       "      <td>0</td>\n",
       "      <td>72654.0</td>\n",
       "      <td>3</td>\n",
       "      <td>1</td>\n",
       "      <td>0</td>\n",
       "      <td>20</td>\n",
       "    </tr>\n",
       "    <tr>\n",
       "      <th>1</th>\n",
       "      <td>0</td>\n",
       "      <td>55869.0</td>\n",
       "      <td>1</td>\n",
       "      <td>1</td>\n",
       "      <td>0</td>\n",
       "      <td>18</td>\n",
       "    </tr>\n",
       "    <tr>\n",
       "      <th>2</th>\n",
       "      <td>0</td>\n",
       "      <td>86050.0</td>\n",
       "      <td>3</td>\n",
       "      <td>1</td>\n",
       "      <td>0</td>\n",
       "      <td>10</td>\n",
       "    </tr>\n",
       "    <tr>\n",
       "      <th>3</th>\n",
       "      <td>0</td>\n",
       "      <td>82014.0</td>\n",
       "      <td>0</td>\n",
       "      <td>1</td>\n",
       "      <td>0</td>\n",
       "      <td>0</td>\n",
       "    </tr>\n",
       "    <tr>\n",
       "      <th>4</th>\n",
       "      <td>0</td>\n",
       "      <td>63440.0</td>\n",
       "      <td>4</td>\n",
       "      <td>1</td>\n",
       "      <td>1</td>\n",
       "      <td>3</td>\n",
       "    </tr>\n",
       "  </tbody>\n",
       "</table>\n",
       "</div>"
      ],
      "text/plain": [
       "  FULL_TIME_POSITION  PREVAILING_WAGE YEAR WHETHER_EMPLOYER_UNIVERSITY  \\\n",
       "0                  0          72654.0    3                           1   \n",
       "1                  0          55869.0    1                           1   \n",
       "2                  0          86050.0    3                           1   \n",
       "3                  0          82014.0    0                           1   \n",
       "4                  0          63440.0    4                           1   \n",
       "\n",
       "  WHETHER_CS state  \n",
       "0          0    20  \n",
       "1          0    18  \n",
       "2          0    10  \n",
       "3          0     0  \n",
       "4          1     3  "
      ]
     },
     "execution_count": 227,
     "metadata": {},
     "output_type": "execute_result"
    }
   ],
   "source": [
    "inputX.head()"
   ]
  },
  {
   "cell_type": "code",
   "execution_count": 226,
   "metadata": {},
   "outputs": [
    {
     "data": {
      "text/html": [
       "<div>\n",
       "<style scoped>\n",
       "    .dataframe tbody tr th:only-of-type {\n",
       "        vertical-align: middle;\n",
       "    }\n",
       "\n",
       "    .dataframe tbody tr th {\n",
       "        vertical-align: top;\n",
       "    }\n",
       "\n",
       "    .dataframe thead th {\n",
       "        text-align: right;\n",
       "    }\n",
       "</style>\n",
       "<table border=\"1\" class=\"dataframe\">\n",
       "  <thead>\n",
       "    <tr style=\"text-align: right;\">\n",
       "      <th></th>\n",
       "      <th>PREVAILING_WAGE</th>\n",
       "      <th>FULL_TIME_POSITION_0</th>\n",
       "      <th>FULL_TIME_POSITION_1</th>\n",
       "      <th>YEAR_0</th>\n",
       "      <th>YEAR_1</th>\n",
       "      <th>YEAR_2</th>\n",
       "      <th>YEAR_3</th>\n",
       "      <th>YEAR_4</th>\n",
       "      <th>YEAR_5</th>\n",
       "      <th>WHETHER_EMPLOYER_UNIVERSITY_0</th>\n",
       "      <th>...</th>\n",
       "      <th>state_42</th>\n",
       "      <th>state_43</th>\n",
       "      <th>state_44</th>\n",
       "      <th>state_45</th>\n",
       "      <th>state_46</th>\n",
       "      <th>state_47</th>\n",
       "      <th>state_48</th>\n",
       "      <th>state_49</th>\n",
       "      <th>state_50</th>\n",
       "      <th>state_51</th>\n",
       "    </tr>\n",
       "  </thead>\n",
       "  <tbody>\n",
       "    <tr>\n",
       "      <th>0</th>\n",
       "      <td>72654.0</td>\n",
       "      <td>1</td>\n",
       "      <td>0</td>\n",
       "      <td>0</td>\n",
       "      <td>0</td>\n",
       "      <td>0</td>\n",
       "      <td>1</td>\n",
       "      <td>0</td>\n",
       "      <td>0</td>\n",
       "      <td>0</td>\n",
       "      <td>...</td>\n",
       "      <td>0</td>\n",
       "      <td>0</td>\n",
       "      <td>0</td>\n",
       "      <td>0</td>\n",
       "      <td>0</td>\n",
       "      <td>0</td>\n",
       "      <td>0</td>\n",
       "      <td>0</td>\n",
       "      <td>0</td>\n",
       "      <td>0</td>\n",
       "    </tr>\n",
       "    <tr>\n",
       "      <th>1</th>\n",
       "      <td>55869.0</td>\n",
       "      <td>1</td>\n",
       "      <td>0</td>\n",
       "      <td>0</td>\n",
       "      <td>1</td>\n",
       "      <td>0</td>\n",
       "      <td>0</td>\n",
       "      <td>0</td>\n",
       "      <td>0</td>\n",
       "      <td>0</td>\n",
       "      <td>...</td>\n",
       "      <td>0</td>\n",
       "      <td>0</td>\n",
       "      <td>0</td>\n",
       "      <td>0</td>\n",
       "      <td>0</td>\n",
       "      <td>0</td>\n",
       "      <td>0</td>\n",
       "      <td>0</td>\n",
       "      <td>0</td>\n",
       "      <td>0</td>\n",
       "    </tr>\n",
       "    <tr>\n",
       "      <th>2</th>\n",
       "      <td>86050.0</td>\n",
       "      <td>1</td>\n",
       "      <td>0</td>\n",
       "      <td>0</td>\n",
       "      <td>0</td>\n",
       "      <td>0</td>\n",
       "      <td>1</td>\n",
       "      <td>0</td>\n",
       "      <td>0</td>\n",
       "      <td>0</td>\n",
       "      <td>...</td>\n",
       "      <td>0</td>\n",
       "      <td>0</td>\n",
       "      <td>0</td>\n",
       "      <td>0</td>\n",
       "      <td>0</td>\n",
       "      <td>0</td>\n",
       "      <td>0</td>\n",
       "      <td>0</td>\n",
       "      <td>0</td>\n",
       "      <td>0</td>\n",
       "    </tr>\n",
       "    <tr>\n",
       "      <th>3</th>\n",
       "      <td>82014.0</td>\n",
       "      <td>1</td>\n",
       "      <td>0</td>\n",
       "      <td>1</td>\n",
       "      <td>0</td>\n",
       "      <td>0</td>\n",
       "      <td>0</td>\n",
       "      <td>0</td>\n",
       "      <td>0</td>\n",
       "      <td>0</td>\n",
       "      <td>...</td>\n",
       "      <td>0</td>\n",
       "      <td>0</td>\n",
       "      <td>0</td>\n",
       "      <td>0</td>\n",
       "      <td>0</td>\n",
       "      <td>0</td>\n",
       "      <td>0</td>\n",
       "      <td>0</td>\n",
       "      <td>0</td>\n",
       "      <td>0</td>\n",
       "    </tr>\n",
       "    <tr>\n",
       "      <th>4</th>\n",
       "      <td>63440.0</td>\n",
       "      <td>1</td>\n",
       "      <td>0</td>\n",
       "      <td>0</td>\n",
       "      <td>0</td>\n",
       "      <td>0</td>\n",
       "      <td>0</td>\n",
       "      <td>1</td>\n",
       "      <td>0</td>\n",
       "      <td>0</td>\n",
       "      <td>...</td>\n",
       "      <td>0</td>\n",
       "      <td>0</td>\n",
       "      <td>0</td>\n",
       "      <td>0</td>\n",
       "      <td>0</td>\n",
       "      <td>0</td>\n",
       "      <td>0</td>\n",
       "      <td>0</td>\n",
       "      <td>0</td>\n",
       "      <td>0</td>\n",
       "    </tr>\n",
       "  </tbody>\n",
       "</table>\n",
       "<p>5 rows × 65 columns</p>\n",
       "</div>"
      ],
      "text/plain": [
       "   PREVAILING_WAGE  FULL_TIME_POSITION_0  FULL_TIME_POSITION_1  YEAR_0  \\\n",
       "0          72654.0                     1                     0       0   \n",
       "1          55869.0                     1                     0       0   \n",
       "2          86050.0                     1                     0       0   \n",
       "3          82014.0                     1                     0       1   \n",
       "4          63440.0                     1                     0       0   \n",
       "\n",
       "   YEAR_1  YEAR_2  YEAR_3  YEAR_4  YEAR_5  WHETHER_EMPLOYER_UNIVERSITY_0  \\\n",
       "0       0       0       1       0       0                              0   \n",
       "1       1       0       0       0       0                              0   \n",
       "2       0       0       1       0       0                              0   \n",
       "3       0       0       0       0       0                              0   \n",
       "4       0       0       0       1       0                              0   \n",
       "\n",
       "     ...     state_42  state_43  state_44  state_45  state_46  state_47  \\\n",
       "0    ...            0         0         0         0         0         0   \n",
       "1    ...            0         0         0         0         0         0   \n",
       "2    ...            0         0         0         0         0         0   \n",
       "3    ...            0         0         0         0         0         0   \n",
       "4    ...            0         0         0         0         0         0   \n",
       "\n",
       "   state_48  state_49  state_50  state_51  \n",
       "0         0         0         0         0  \n",
       "1         0         0         0         0  \n",
       "2         0         0         0         0  \n",
       "3         0         0         0         0  \n",
       "4         0         0         0         0  \n",
       "\n",
       "[5 rows x 65 columns]"
      ]
     },
     "execution_count": 226,
     "metadata": {},
     "output_type": "execute_result"
    }
   ],
   "source": [
    "inputX_encode.head()\n",
    "variable_list = []"
   ]
  },
  {
   "cell_type": "code",
   "execution_count": 243,
   "metadata": {},
   "outputs": [],
   "source": [
    "salaryList = ['wage']\n",
    "positonList = ['full_time', 'part_time']\n",
    "yearList = ['2011', '2012', '2013', '2014', '2015', '2016']\n",
    "universityList = ['university', 'industry']\n",
    "csjobList = ['cs', 'not_cs']\n",
    "stateList = list(class_mapping_state.keys())"
   ]
  },
  {
   "cell_type": "code",
   "execution_count": 244,
   "metadata": {},
   "outputs": [],
   "source": [
    "import itertools\n",
    "totalNameList = list(itertools.chain(salaryList, positonList, yearList,\\\n",
    "                                     universityList, csjobList, stateList))"
   ]
  },
  {
   "cell_type": "code",
   "execution_count": 245,
   "metadata": {
    "scrolled": true
   },
   "outputs": [],
   "source": [
    "featureList = list(gbm.feature_importances_)"
   ]
  },
  {
   "cell_type": "code",
   "execution_count": 246,
   "metadata": {},
   "outputs": [],
   "source": [
    "feature_importanceDic = dict(zip(totalNameList, featureList))\n",
    "feature_importanceDic_sorted = sorted(feature_importanceDic, \\\n",
    "                                      key = feature_importanceDic.get,\\\n",
    "                                      reverse = True)"
   ]
  },
  {
   "cell_type": "code",
   "execution_count": 247,
   "metadata": {},
   "outputs": [
    {
     "data": {
      "text/plain": [
       "['wage',\n",
       " '2016',\n",
       " '2015',\n",
       " 'cs',\n",
       " 'full_time',\n",
       " 'university',\n",
       " 'LOUISIANA',\n",
       " 'TEXAS',\n",
       " 'FLORIDA',\n",
       " '2014',\n",
       " '2012',\n",
       " 'CALIFORNIA',\n",
       " 'WISCONSIN',\n",
       " 'WASHINGTON',\n",
       " 'NEVADA',\n",
       " '2011',\n",
       " 'UTAH',\n",
       " 'MONTANA',\n",
       " 'NEW JERSEY',\n",
       " 'COLORADO',\n",
       " 'INDIANA',\n",
       " 'PENNSYLVANIA',\n",
       " 'part_time',\n",
       " '2013',\n",
       " 'industry',\n",
       " 'not_cs',\n",
       " 'MICHIGAN',\n",
       " 'ILLINOIS',\n",
       " 'RHODE ISLAND',\n",
       " 'OHIO',\n",
       " 'GEORGIA',\n",
       " 'NEW YORK',\n",
       " 'MARYLAND',\n",
       " 'NORTH CAROLINA',\n",
       " 'VIRGINIA',\n",
       " 'MASSACHUSETTS',\n",
       " 'DISTRICT OF COLUMBIA',\n",
       " 'MISSOURI',\n",
       " 'MISSISSIPPI',\n",
       " 'MINNESOTA',\n",
       " 'TENNESSEE',\n",
       " 'ARKANSAS',\n",
       " 'KENTUCKY',\n",
       " 'PUERTO RICO',\n",
       " 'ARIZONA',\n",
       " 'HAWAII',\n",
       " 'ALASKA',\n",
       " 'SOUTH CAROLINA',\n",
       " 'WYOMING',\n",
       " 'IOWA',\n",
       " 'KANSAS',\n",
       " 'OREGON',\n",
       " 'CONNECTICUT',\n",
       " 'IDAHO',\n",
       " 'NEBRASKA',\n",
       " 'NEW MEXICO',\n",
       " 'OKLAHOMA',\n",
       " 'WEST VIRGINIA',\n",
       " 'DELAWARE',\n",
       " 'SOUTH DAKOTA',\n",
       " 'NORTH DAKOTA',\n",
       " 'MAINE',\n",
       " 'ALABAMA',\n",
       " 'VERMONT',\n",
       " 'NEW HAMPSHIRE']"
      ]
     },
     "execution_count": 247,
     "metadata": {},
     "output_type": "execute_result"
    }
   ],
   "source": [
    "feature_importanceDic_sorted"
   ]
  },
  {
   "cell_type": "markdown",
   "metadata": {},
   "source": [
    "SMOTE (Synthetic Minority Oversampling TEchnique)"
   ]
  },
  {
   "cell_type": "code",
   "execution_count": 248,
   "metadata": {},
   "outputs": [],
   "source": [
    "from imblearn.over_sampling import SMOTE\n",
    "\n",
    "smote = SMOTE(ratio = 'auto')\n",
    "X_sm, y_sm = smote.fit_sample(inputX_encode_values, labels_values)"
   ]
  },
  {
   "cell_type": "code",
   "execution_count": 249,
   "metadata": {
    "scrolled": true
   },
   "outputs": [
    {
     "data": {
      "image/png": "[encoded data removed]",
      "text/plain": [
       "<Figure size 432x288 with 1 Axes>"
      ]
     },
     "metadata": {},
     "output_type": "display_data"
    }
   ],
   "source": [
    "objects = ('Certified', 'Denied')\n",
    "y_pos = np.arange(len(objects))\n",
    "performance = [(y_sm == 0).sum(), (y_sm == 1).sum()]\n",
    " \n",
    "plt.bar(y_pos, performance, align='center', alpha=0.5)\n",
    "plt.xticks(y_pos, objects)\n",
    "plt.ylabel('Count')\n",
    "plt.title('After Resampling')\n",
    " \n",
    "plt.show()"
   ]
  },
  {
   "cell_type": "markdown",
   "metadata": {},
   "source": [
    "### LASSO FEATURE SELECTION"
   ]
  },
  {
   "cell_type": "markdown",
   "metadata": {},
   "source": [
    "Split the resampled dataset into training set and test set"
   ]
  },
  {
   "cell_type": "code",
   "execution_count": 251,
   "metadata": {},
   "outputs": [],
   "source": [
    "X_trainA, X_testA, y_trainA, y_testA = \\\n",
    "                train_test_split(X_sm, y_sm, test_size = 0.2, random_state = 42)"
   ]
  },
  {
   "cell_type": "markdown",
   "metadata": {},
   "source": [
    "Perform lasso feature selection on the training set and see which feature can be removed"
   ]
  },
  {
   "cell_type": "code",
   "execution_count": 304,
   "metadata": {},
   "outputs": [],
   "source": [
    "from sklearn.preprocessing import StandardScaler\n",
    "scaler = StandardScaler()\n",
    "scaler.fit(X_trainA)\n",
    "X_trainA_scale = scaler.transform(X_trainA)"
   ]
  },
  {
   "cell_type": "code",
   "execution_count": 253,
   "metadata": {},
   "outputs": [],
   "source": [
    "from sklearn.svm import LinearSVC\n",
    "from sklearn.feature_selection import SelectFromModel\n",
    "lsvc = LinearSVC(C=0.01, penalty=\"l1\", dual=False).fit(X_trainA_scale, y_trainA)\n",
    "model = SelectFromModel(lsvc, prefit=True)"
   ]
  },
  {
   "cell_type": "code",
   "execution_count": 254,
   "metadata": {},
   "outputs": [],
   "source": [
    "X_trainA_scale_new = model.transform(X_trainA_scale)"
   ]
  },
  {
   "cell_type": "code",
   "execution_count": 299,
   "metadata": {},
   "outputs": [
    {
     "data": {
      "text/plain": [
       "[6, 28]"
      ]
     },
     "execution_count": 299,
     "metadata": {},
     "output_type": "execute_result"
    }
   ],
   "source": [
    "indexs = [i for i in range(len(list(lsvc.coef_[0] == 0))) if list(lsvc.coef_[0] == 0)[i] == True]\n",
    "indexs"
   ]
  },
  {
   "cell_type": "code",
   "execution_count": 301,
   "metadata": {},
   "outputs": [
    {
     "data": {
      "text/plain": [
       "['2014', 'VIRGINIA']"
      ]
     },
     "execution_count": 301,
     "metadata": {},
     "output_type": "execute_result"
    }
   ],
   "source": [
    "removedFeature = []\n",
    "for index in indexs:\n",
    "    removedFeature.append(totalNameList[index])\n",
    "removedFeature"
   ]
  },
  {
   "cell_type": "markdown",
   "metadata": {},
   "source": [
    "It turns out that the zero coefficient feature just some sub feature generated by one hot encoding. The other year and location still play roles in the classification, so no feature is removed from the input dataset"
   ]
  },
  {
   "cell_type": "code",
   "execution_count": 261,
   "metadata": {},
   "outputs": [],
   "source": [
    "import xgboost\n",
    "gbm_search = xgboost.XGBClassifier(max_depth=3)"
   ]
  },
  {
   "cell_type": "code",
   "execution_count": 269,
   "metadata": {},
   "outputs": [],
   "source": [
    "from sklearn.model_selection import GridSearchCV\n",
    "parameters = [{'n_estimators': [10, 100, 1000]},\n",
    "              {'learning_rate': [0.01, 0.1, 0.5]}]"
   ]
  },
  {
   "cell_type": "code",
   "execution_count": 270,
   "metadata": {},
   "outputs": [],
   "source": [
    "grid_search = GridSearchCV(estimator = gbm_search, param_grid = parameters, scoring='recall', cv = 3)"
   ]
  },
  {
   "cell_type": "code",
   "execution_count": 271,
   "metadata": {},
   "outputs": [],
   "source": [
    "nsamples_search = 1000\n",
    "simple_random_sampling_search = np.random.randint(0, X_trainA.shape[0], nsamples)\n",
    "search_sampleX = X_trainA[simple_random_sampling_search]\n",
    "search_sampleY = y_trainA[simple_random_sampling_search]"
   ]
  },
  {
   "cell_type": "code",
   "execution_count": 272,
   "metadata": {},
   "outputs": [
    {
     "data": {
      "text/plain": [
       "GridSearchCV(cv=3, error_score='raise',\n",
       "       estimator=XGBClassifier(base_score=0.5, booster='gbtree', colsample_bylevel=1,\n",
       "       colsample_bytree=1, gamma=0, learning_rate=0.1, max_delta_step=0,\n",
       "       max_depth=3, min_child_weight=1, missing=None, n_estimators=100,\n",
       "       n_jobs=1, nthread=None, objective='binary:logistic', random_state=0,\n",
       "       reg_alpha=0, reg_lambda=1, scale_pos_weight=1, seed=None,\n",
       "       silent=True, subsample=1),\n",
       "       fit_params=None, iid=True, n_jobs=1,\n",
       "       param_grid=[{'n_estimators': [10, 100, 1000]}, {'learning_rate': [0.01, 0.1, 0.5]}],\n",
       "       pre_dispatch='2*n_jobs', refit=True, return_train_score='warn',\n",
       "       scoring='recall', verbose=0)"
      ]
     },
     "execution_count": 272,
     "metadata": {},
     "output_type": "execute_result"
    }
   ],
   "source": [
    "grid_search.fit(search_sampleX,search_sampleY)"
   ]
  },
  {
   "cell_type": "code",
   "execution_count": 273,
   "metadata": {},
   "outputs": [
    {
     "data": {
      "text/plain": [
       "XGBClassifier(base_score=0.5, booster='gbtree', colsample_bylevel=1,\n",
       "       colsample_bytree=1, gamma=0, learning_rate=0.1, max_delta_step=0,\n",
       "       max_depth=3, min_child_weight=1, missing=None, n_estimators=1000,\n",
       "       n_jobs=1, nthread=None, objective='binary:logistic', random_state=0,\n",
       "       reg_alpha=0, reg_lambda=1, scale_pos_weight=1, seed=None,\n",
       "       silent=True, subsample=1)"
      ]
     },
     "execution_count": 273,
     "metadata": {},
     "output_type": "execute_result"
    }
   ],
   "source": [
    "warnings.filterwarnings(\"ignore\")\n",
    "\n",
    "grid_search.best_estimator_"
   ]
  },
  {
   "cell_type": "code",
   "execution_count": 274,
   "metadata": {},
   "outputs": [],
   "source": [
    "gbmA  = grid_search.best_estimator_\n",
    "fit_after = gbmA.fit(X_trainA, y_trainA)"
   ]
  },
  {
   "cell_type": "code",
   "execution_count": 275,
   "metadata": {},
   "outputs": [],
   "source": [
    "pred_y_after = gbmA.predict(X_testA)"
   ]
  },
  {
   "cell_type": "code",
   "execution_count": 276,
   "metadata": {},
   "outputs": [
    {
     "name": "stdout",
     "output_type": "stream",
     "text": [
      "[[89286   823]\n",
      " [25218 65112]]\n"
     ]
    }
   ],
   "source": [
    "from sklearn.metrics import confusion_matrix\n",
    "print(confusion_matrix(y_testA, pred_y_after))"
   ]
  },
  {
   "cell_type": "code",
   "execution_count": 277,
   "metadata": {},
   "outputs": [
    {
     "name": "stdout",
     "output_type": "stream",
     "text": [
      "precision is 0.987518\n",
      "recall is 0.720824\n",
      "specificity is 0.990867\n",
      "False Positive Rate is 0.009133\n"
     ]
    },
    {
     "data": {
      "text/plain": [
       "array([0.4081127 , 0.02306859, 0.        , 0.0238427 , 0.02647469,\n",
       "       0.02121071, 0.02337823, 0.01764979, 0.03127419, 0.02353306,\n",
       "       0.        , 0.06641895, 0.        , 0.00696702, 0.01238582,\n",
       "       0.00634773, 0.00712185, 0.01532745, 0.0082056 , 0.0102183 ,\n",
       "       0.00727667, 0.00696702, 0.0102183 , 0.01517263, 0.00650255,\n",
       "       0.00758631, 0.00356092, 0.0082056 , 0.00774114, 0.00619291,\n",
       "       0.00928936, 0.0068122 , 0.0068122 , 0.00572844, 0.00356092,\n",
       "       0.0047995 , 0.00712185, 0.00572844, 0.00588326, 0.00572844,\n",
       "       0.00619291, 0.00418021, 0.00712185, 0.00387057, 0.01641121,\n",
       "       0.00294163, 0.00510915, 0.00278681, 0.0054188 , 0.00464468,\n",
       "       0.00665738, 0.00619291, 0.00510915, 0.00743149, 0.00433504,\n",
       "       0.00510915, 0.00294163, 0.00758631, 0.00495433, 0.00247716,\n",
       "       0.00325128, 0.00418021, 0.0034061 , 0.00402539, 0.00123858],\n",
       "      dtype=float32)"
      ]
     },
     "execution_count": 277,
     "metadata": {},
     "output_type": "execute_result"
    }
   ],
   "source": [
    "confusion_matrix_A = confusion_matrix(y_testA, pred_y_after)\n",
    "precision = confusion_matrix_A[1][1]/float(confusion_matrix_A[1][1] + confusion_matrix_A[0][1])\n",
    "recall = confusion_matrix_A[1][1]/float(confusion_matrix_A[1][0] + confusion_matrix_A[1][1])\n",
    "Specificity = confusion_matrix_A[0][0]/float(confusion_matrix_A[0][0] + confusion_matrix_A[0][1])\n",
    "FPRate = confusion_matrix_A[0][1]/float(confusion_matrix_A[0][1] + confusion_matrix_A[0][0])\n",
    "print(\"precision is %f\"%precision)\n",
    "print(\"recall is %f\"%recall)\n",
    "print(\"specificity is %f\"%Specificity)\n",
    "print(\"False Positive Rate is %f\"%FPRate)\n",
    "gbmA.feature_importances_"
   ]
  },
  {
   "cell_type": "code",
   "execution_count": 278,
   "metadata": {},
   "outputs": [
    {
     "data": {
      "text/plain": [
       "<matplotlib.axes._subplots.AxesSubplot at 0x7f0de1f85cf8>"
      ]
     },
     "execution_count": 278,
     "metadata": {},
     "output_type": "execute_result"
    },
    {
     "data": {
      "image/png": "[encoded data removed]",
      "text/plain": [
       "<Figure size 432x288 with 2 Axes>"
      ]
     },
     "metadata": {},
     "output_type": "display_data"
    }
   ],
   "source": [
    "#plt.figure(figsize = (10,7))\n",
    "df_cm = pd.DataFrame(confusion_matrix(y_testA, pred_y_after), range(2), range(2))\n",
    "sns.set(font_scale = 1.4)#for label size\n",
    "sns.heatmap(df_cm, annot=True, annot_kws={\"size\": 16})# font size"
   ]
  },
  {
   "cell_type": "markdown",
   "metadata": {},
   "source": [
    "Note: Confusion Matrix after performing resampling, 0 means the application has been accepted and 1 means the application has been rejcted, the row is the ground truth and the column is the prediction."
   ]
  },
  {
   "cell_type": "code",
   "execution_count": 279,
   "metadata": {},
   "outputs": [
    {
     "name": "stdout",
     "output_type": "stream",
     "text": [
      "Automatically created module for IPython interactive environment\n"
     ]
    }
   ],
   "source": [
    "print(__doc__)\n",
    "\n",
    "import numpy as np\n",
    "import matplotlib.pyplot as plt\n",
    "from itertools import cycle\n",
    "\n",
    "from sklearn import svm, datasets\n",
    "from sklearn.metrics import roc_curve, auc\n",
    "from sklearn.model_selection import train_test_split\n",
    "from sklearn.preprocessing import label_binarize\n",
    "from sklearn.multiclass import OneVsRestClassifier\n",
    "from scipy import interp\n",
    "\n",
    "\n",
    "fpr, tpr, _ = roc_curve(y_testA, pred_y_after)\n",
    "roc_auc = auc(fpr, tpr)"
   ]
  },
  {
   "cell_type": "code",
   "execution_count": 280,
   "metadata": {},
   "outputs": [
    {
     "data": {
      "image/png": "[encoded data removed]",
      "text/plain": [
       "<Figure size 432x288 with 1 Axes>"
      ]
     },
     "metadata": {},
     "output_type": "display_data"
    }
   ],
   "source": [
    "plt.figure()\n",
    "lw = 2\n",
    "plt.plot(fpr, tpr, color='darkorange',\n",
    "         lw=lw, label='ROC curve (area = %0.2f)' % roc_auc)\n",
    "plt.plot([0, 1], [0, 1], color='navy', lw=lw, linestyle='--')\n",
    "plt.xlim([0.0, 1.0])\n",
    "plt.ylim([0.0, 1.05])\n",
    "plt.xlabel('False Positive Rate')\n",
    "plt.ylabel('True Positive Rate')\n",
    "plt.title('Receiver operating characteristic example')\n",
    "plt.legend(loc=\"lower right\")\n",
    "plt.show()"
   ]
  },
  {
   "cell_type": "markdown",
   "metadata": {},
   "source": [
    "__The ROC curve of the gradient boosting tree method, and the AUC is around 0.86__."
   ]
  },
  {
   "cell_type": "code",
   "execution_count": 284,
   "metadata": {},
   "outputs": [
    {
     "data": {
      "text/plain": [
       "[0.4081127,\n",
       " 0.023068586,\n",
       " 0.0,\n",
       " 0.0238427,\n",
       " 0.026474686,\n",
       " 0.021210713,\n",
       " 0.023378232,\n",
       " 0.01764979,\n",
       " 0.031274192,\n",
       " 0.023533056,\n",
       " 0.0,\n",
       " 0.06641895,\n",
       " 0.0,\n",
       " 0.0069670225,\n",
       " 0.012385818,\n",
       " 0.0063477317,\n",
       " 0.0071218456,\n",
       " 0.01532745,\n",
       " 0.008205605,\n",
       " 0.0102183,\n",
       " 0.007276668,\n",
       " 0.0069670225,\n",
       " 0.0102183,\n",
       " 0.015172628,\n",
       " 0.0065025548,\n",
       " 0.007586314,\n",
       " 0.0035609228,\n",
       " 0.008205605,\n",
       " 0.0077411365,\n",
       " 0.006192909,\n",
       " 0.009289363,\n",
       " 0.0068122,\n",
       " 0.0068122,\n",
       " 0.005728441,\n",
       " 0.0035609228,\n",
       " 0.0047995048,\n",
       " 0.0071218456,\n",
       " 0.005728441,\n",
       " 0.005883264,\n",
       " 0.005728441,\n",
       " 0.006192909,\n",
       " 0.0041802134,\n",
       " 0.0071218456,\n",
       " 0.0038705682,\n",
       " 0.01641121,\n",
       " 0.002941632,\n",
       " 0.00510915,\n",
       " 0.002786809,\n",
       " 0.0054187956,\n",
       " 0.0046446817,\n",
       " 0.0066573774,\n",
       " 0.006192909,\n",
       " 0.00510915,\n",
       " 0.007431491,\n",
       " 0.0043350365,\n",
       " 0.00510915,\n",
       " 0.002941632,\n",
       " 0.007586314,\n",
       " 0.0049543274,\n",
       " 0.0024771637,\n",
       " 0.0032512774,\n",
       " 0.0041802134,\n",
       " 0.0034061,\n",
       " 0.004025391,\n",
       " 0.0012385818]"
      ]
     },
     "execution_count": 284,
     "metadata": {},
     "output_type": "execute_result"
    }
   ],
   "source": [
    "featureListA = list(gbmA.feature_importances_)\n",
    "featureListA"
   ]
  },
  {
   "cell_type": "code",
   "execution_count": 282,
   "metadata": {},
   "outputs": [],
   "source": [
    "feature_importanceDicA = dict(zip(totalNameList, featureListA))\n",
    "feature_importanceDic_sortedA = sorted(feature_importanceDicA, \\\n",
    "                                      key = feature_importanceDicA.get,\\\n",
    "                                      reverse = True)"
   ]
  },
  {
   "cell_type": "code",
   "execution_count": 283,
   "metadata": {},
   "outputs": [
    {
     "data": {
      "text/plain": [
       "['wage',\n",
       " 'cs',\n",
       " '2016',\n",
       " '2012',\n",
       " '2011',\n",
       " 'university',\n",
       " '2014',\n",
       " 'full_time',\n",
       " '2013',\n",
       " '2015',\n",
       " 'NEW JERSEY',\n",
       " 'CALIFORNIA',\n",
       " 'NEW YORK',\n",
       " 'TEXAS',\n",
       " 'FLORIDA',\n",
       " 'GEORGIA',\n",
       " 'MASSACHUSETTS',\n",
       " 'ILLINOIS',\n",
       " 'NORTH CAROLINA',\n",
       " 'VIRGINIA',\n",
       " 'MARYLAND',\n",
       " 'DELAWARE',\n",
       " 'NEBRASKA',\n",
       " 'RHODE ISLAND',\n",
       " 'WISCONSIN',\n",
       " 'PENNSYLVANIA',\n",
       " 'ARIZONA',\n",
       " 'MICHIGAN',\n",
       " 'OHIO',\n",
       " 'WASHINGTON',\n",
       " 'DISTRICT OF COLUMBIA',\n",
       " 'OREGON',\n",
       " 'INDIANA',\n",
       " 'COLORADO',\n",
       " 'LOUISIANA',\n",
       " 'KENTUCKY',\n",
       " 'CONNECTICUT',\n",
       " 'TENNESSEE',\n",
       " 'MISSOURI',\n",
       " 'MINNESOTA',\n",
       " 'ARKANSAS',\n",
       " 'IOWA',\n",
       " 'SOUTH CAROLINA',\n",
       " 'IDAHO',\n",
       " 'OKLAHOMA',\n",
       " 'SOUTH DAKOTA',\n",
       " 'UTAH',\n",
       " 'KANSAS',\n",
       " 'NEW MEXICO',\n",
       " 'PUERTO RICO',\n",
       " 'ALABAMA',\n",
       " 'NEW HAMPSHIRE',\n",
       " 'HAWAII',\n",
       " 'NEVADA',\n",
       " 'MISSISSIPPI',\n",
       " 'VERMONT',\n",
       " 'MAINE',\n",
       " 'ALASKA',\n",
       " 'WEST VIRGINIA',\n",
       " 'WYOMING',\n",
       " 'NORTH DAKOTA',\n",
       " 'MONTANA',\n",
       " 'part_time',\n",
       " 'industry',\n",
       " 'not_cs']"
      ]
     },
     "execution_count": 283,
     "metadata": {},
     "output_type": "execute_result"
    }
   ],
   "source": [
    "feature_importanceDic_sortedA."
   ]
  },
  {
   "cell_type": "markdown",
   "metadata": {},
   "source": [
    "From the analysis above, we see that wage is the dominate factor in determining the appliation success rate of a H1B application. And the second important factor location whether the job is related to computer science."
   ]
  },
  {
   "cell_type": "markdown",
   "metadata": {},
   "source": [
    "# __5.Summary__"
   ]
  },
  {
   "cell_type": "markdown",
   "metadata": {},
   "source": [
    "In summary,:\n",
    "<br>\n",
    "i) For imbalanced dataset, resampling is an essencial step. Before and after the resampling step, there is significant different in the AUC and recall.\n",
    "<br>\n",
    "ii) Accuracy is not a good metric for imbalanced dataset. Using AUC instead.\n",
    "<br>\n",
    "iii) It turns out that the predictor has high precision and fair accuracy of the recall. But it may have some considerable false negative rate (actually the case is declined but could not predict), arond 30%.\n",
    "iV) Without doing any feature extraction, all the input features can reach a number up to tens of thousands if all the occupation and employer are considered. It is a good input for the neural network. By trying different model, we can have a better undertanding about the problem.\n",
    "V) the data at hand is still limited. Probably scrap some most up to date data can be the next step to go."
   ]
  }
 ],
 "metadata": {
  "kernelspec": {
   "display_name": "Python 3",
   "language": "python",
   "name": "python3"
  },
  "language_info": {
   "codemirror_mode": {
    "name": "ipython",
    "version": 3
   },
   "file_extension": ".py",
   "mimetype": "text/x-python",
   "name": "python",
   "nbconvert_exporter": "python",
   "pygments_lexer": "ipython3",
   "version": "3.6.2"
  }
 },
 "nbformat": 4,
 "nbformat_minor": 2
}
